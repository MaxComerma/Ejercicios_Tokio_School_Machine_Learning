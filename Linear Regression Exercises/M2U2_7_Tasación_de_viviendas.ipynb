{
  "cells": [
    {
      "cell_type": "markdown",
      "id": "89bbc7a1-1bd6-4502-9794-9a2d6973cbb4",
      "metadata": {
        "id": "89bbc7a1-1bd6-4502-9794-9a2d6973cbb4"
      },
      "source": [
        "# Regresión lineal: Ejemplo de tasación de viviendas\n",
        "M2U2 - Ejercicio 7\n",
        "\n",
        "## ¿Qué vamos a hacer?\n",
        "- Entrenar un modelo de regresión lineal multivariable\n",
        "- Crear un dataset sintético siguiendo un esquema de datos real\n",
        "\n",
        "Recuerda seguir las instrucciones para las entregas de prácticas indicadas en [Instrucciones entregas](https://github.com/Tokio-School/Machine-Learning/blob/main/Instrucciones%20entregas.md)."
      ]
    },
    {
      "cell_type": "code",
      "execution_count": 1,
      "id": "ea2a6120-5d57-4455-b640-9e0c838d7522",
      "metadata": {
        "id": "ea2a6120-5d57-4455-b640-9e0c838d7522"
      },
      "outputs": [],
      "source": [
        "import time\n",
        "import numpy as np\n",
        "from matplotlib import pyplot as plt"
      ]
    },
    {
      "cell_type": "markdown",
      "id": "6527942d-d241-439e-b2e3-3da5d89e989a",
      "metadata": {
        "id": "6527942d-d241-439e-b2e3-3da5d89e989a"
      },
      "source": [
        "## Set de datos de tasación de viviendas sintético\n",
        "\n",
        "En esta ocasión vamos a explorar cómo crear un dataset sintético que siga la estructura que queramos, para simular un dataset real con plena flexibilidad.\n",
        "\n",
        "En este caso, vamos a usar como ejemplo un dataset inmobiliario con el objetivo de entrenar un tadador de viviendas con las siguientes características:\n",
        "\n",
        "Variable objetivo o dependiente:\n",
        "- Precio de venta (int)\n",
        "\n",
        "Características, variables explicatorias o independientes:\n",
        "- Superficie útil (int)\n",
        "- Localización (int, representando la barriada como categoría ordinal)\n",
        "- Tipo de vivienda (int, representando piso, chalet, adosado, ático, etc. como categoría ordinal)\n",
        "- Nº de habitaciones (int)\n",
        "- Nº de cuartos de baño (int)\n",
        "- Garaje (int, 0/1 representando si tiene o no)\n",
        "- Superficie zonas comunes (int)\n",
        "- Año de construcción (int)\n",
        "\n",
        "Nuestro modelo intentará aproximar una función lineal multivariable que nos permita interpretar el mercado inmobiliario y hacer predicciones sobre el precio de venta de nuevas viviendas, según la función lineal:\n",
        "\n",
        "$$Y = h_\\Theta(x) = X \\times \\Theta^T$$\n",
        "Donde $h_\\Theta(x)$ es la hipótesis lineal."
      ]
    },
    {
      "cell_type": "markdown",
      "id": "d8ad8a9f-756e-41ed-b40c-f3908169d2c5",
      "metadata": {
        "id": "d8ad8a9f-756e-41ed-b40c-f3908169d2c5"
      },
      "source": [
        "### Creación del dataset sintético\n",
        "\n",
        "Primero crearemos un ejemplo de una vivienda con datos conocidos, con los valores de sus características y el precio de venta:"
      ]
    },
    {
      "cell_type": "code",
      "execution_count": 2,
      "id": "c0c447fb-6b84-42fe-97bc-ae1cadc2bba5",
      "metadata": {
        "colab": {
          "base_uri": "https://localhost:8080/"
        },
        "id": "c0c447fb-6b84-42fe-97bc-ae1cadc2bba5",
        "outputId": "517f7211-2ae7-43d3-f6b5-f09543d26537"
      },
      "outputs": [
        {
          "output_type": "stream",
          "name": "stdout",
          "text": [
            "Precio de venta de la vivienda: 80000\n",
            "Superficie útil: 100\n",
            "Localización: 4\n",
            "Tipo de vivienda: 2\n",
            "Nº de habitaciones: 2\n",
            "Nº de cuartos de baño: 1\n",
            "Garaje (sí/no): 0\n",
            "Superficie de zonas comunes: 30\n",
            "Antigüedad: 10\n"
          ]
        }
      ],
      "source": [
        "x_ej1 = np.asarray([100, 4, 2, 2, 1, 0, 30, 10])\n",
        "y_ej1 = np.asarray([80000])\n",
        "\n",
        "print('Precio de venta de la vivienda:', y_ej1[0])\n",
        "print('Superficie útil:', x_ej1[0])\n",
        "print('Localización:', x_ej1[1])\n",
        "print('Tipo de vivienda:', x_ej1[2])\n",
        "print('Nº de habitaciones:', x_ej1[3])\n",
        "print('Nº de cuartos de baño:', x_ej1[4])\n",
        "print('Garaje (sí/no):', x_ej1[5])\n",
        "print('Superficie de zonas comunes:', x_ej1[6])\n",
        "print('Antigüedad:', x_ej1[7])"
      ]
    },
    {
      "cell_type": "markdown",
      "id": "774b6589-b81f-459a-b900-af941154ab8f",
      "metadata": {
        "id": "774b6589-b81f-459a-b900-af941154ab8f"
      },
      "source": [
        "De esta forma podemos crear nuevos ejemplos con los valores que queramos a nuestro antojo.\n",
        "\n",
        "Modifica los valores de la vivienda anterior para generar otras viviendas de forma manual.\n",
        "\n",
        "Del mismo modo que hemos creado un ejemplo de vivienda manualmente, vamos a crear múltiples ejemplos aleatorios de forma automática:\n",
        "\n",
        "*Nota*: Por simpleza a la hora de generar nºs aleatorios con código, vamos a usar float en lugar de int en los mismos rangos lógicos para las características de las viviendas."
      ]
    },
    {
      "cell_type": "code",
      "execution_count": 3,
      "id": "0b707c05-0eeb-4653-8283-6cbbf7c6be0e",
      "metadata": {
        "colab": {
          "base_uri": "https://localhost:8080/"
        },
        "id": "0b707c05-0eeb-4653-8283-6cbbf7c6be0e",
        "outputId": "1914ab7c-9bba-477e-a816-fe717bda6d2b"
      },
      "outputs": [
        {
          "output_type": "stream",
          "name": "stdout",
          "text": [
            "Primeros 10 ejemplos de X:\n",
            "[[0.73606413 0.60732159 0.99203717 0.9118979  0.22600024 0.82640137\n",
            "  0.56566639 0.74476843]\n",
            " [0.09160572 0.47301045 0.57202656 0.92478079 0.68349437 0.98568605\n",
            "  0.17250515 0.8522065 ]\n",
            " [0.78965573 0.73069512 0.3761072  0.88345767 0.56563983 0.52394704\n",
            "  0.71358958 0.8839697 ]\n",
            " [0.91830535 0.91807925 0.26706679 0.9525051  0.12909037 0.49265693\n",
            "  0.22363844 0.35306873]\n",
            " [0.59054028 0.95378177 0.16041692 0.82842301 0.35287977 0.37035925\n",
            "  0.5112291  0.93943668]\n",
            " [0.74803728 0.99270688 0.19065143 0.80794265 0.32684115 0.7285995\n",
            "  0.66065739 0.70029576]\n",
            " [0.61836926 0.24993325 0.01057531 0.6420299  0.7855036  0.47056992\n",
            "  0.83247301 0.32910396]\n",
            " [0.11991434 0.34900469 0.29947489 0.99882565 0.56551182 0.6424324\n",
            "  0.52654887 0.74572256]\n",
            " [0.03546618 0.64555015 0.45575873 0.64533707 0.39640169 0.12438264\n",
            "  0.81865502 0.51247597]\n",
            " [0.55795546 0.21225918 0.92425855 0.19498899 0.59898694 0.55649278\n",
            "  0.01280964 0.74779405]]\n",
            "Tamaño de la matriz de ejemplos X:\n",
            "(100, 8)\n"
          ]
        }
      ],
      "source": [
        "m = 100           # nº de ejemplos de viviendas\n",
        "n = x_ej1.shape[0]    # nº de características de cada vivienda\n",
        "\n",
        "X = np.random.rand(m, n)\n",
        "\n",
        "print('Primeros 10 ejemplos de X:')\n",
        "print(X[:10, :])\n",
        "print('Tamaño de la matriz de ejemplos X:')\n",
        "print(X.shape)"
      ]
    },
    {
      "cell_type": "markdown",
      "id": "eab5696b-fbb2-43a5-8ab1-e3743a1a0b9f",
      "metadata": {
        "id": "eab5696b-fbb2-43a5-8ab1-e3743a1a0b9f"
      },
      "source": [
        "*¿Cómo podemos crear el vector *Y* de precios de venta de nuestro dataset sintético, de forma que sigua la relación lineal que queremos aproximar?*\n",
        "\n",
        "Para ello, debemos partir de una *Theta_verd* como en ejercicios pasados.\n",
        "\n",
        "A veces, el problema es obtener una *Y* en el rango que quisiéramos modificando cada valor de *Theta_verd*, lo que puede ser bastante tedioso.\n",
        "\n",
        "En otros casos, una alternativa sería crear *X* e *Y* manualmente, y luego calcular la *Theta_verd* correspondinete a dichas matrices.\n",
        "\n",
        "En este caso, crearemos *Theta_verd* a mano para poder interpretar sus valores:"
      ]
    },
    {
      "cell_type": "code",
      "execution_count": 4,
      "id": "42430a82-3a9b-4a22-8946-4e061fdc0435",
      "metadata": {
        "colab": {
          "base_uri": "https://localhost:8080/"
        },
        "id": "42430a82-3a9b-4a22-8946-4e061fdc0435",
        "outputId": "01bc4d2e-50ac-4c56-da9e-c9e69f21aedd"
      },
      "outputs": [
        {
          "output_type": "stream",
          "name": "stdout",
          "text": [
            "Ej. de vivienda con características aleatorias:\n",
            "[0.73606413 0.60732159 0.99203717 0.9118979  0.22600024 0.82640137\n",
            " 0.56566639 0.74476843]\n",
            "\n",
            "Ej. de pesos de características creados manualmente:\n",
            "[ 1000.  -500. 10000.  5000.  2500.  6000.    50. -1500.]\n",
            "(8,)\n",
            "\n",
            "El precio de venta de dicha vivienda viene dado por sus características:\n",
            "Por cada m2 de superficie útil: 1000.0\n",
            "Por cada km de distancia al centro: -500.0\n",
            "Según el tipo de vivienda: 10000.0\n",
            "Según el nº de habitaciones: 5000.0\n",
            "Según el nº de cuartos de baño: 2500.0\n",
            "Según si tiene garaje: 6000.0\n",
            "Por cada m2 de superficie de zonas comunes: 50.0\n",
            "Por cada año de antigüedad: -1500.0\n"
          ]
        }
      ],
      "source": [
        "x = X[0, :]\n",
        "\n",
        "print('Ej. de vivienda con características aleatorias:')\n",
        "print(x)\n",
        "\n",
        "Theta_verd = np.asarray([1000., -500, 10000, 5000, 2500, 6000, 50, -1500])\n",
        "\n",
        "print('\\nEj. de pesos de características creados manualmente:')\n",
        "print(Theta_verd)\n",
        "print(Theta_verd.shape)\n",
        "\n",
        "print('\\nEl precio de venta de dicha vivienda viene dado por sus características:')\n",
        "print('Por cada m2 de superficie útil:', Theta_verd[0])\n",
        "print('Por cada km de distancia al centro:', Theta_verd[1])\n",
        "print('Según el tipo de vivienda:', Theta_verd[2])\n",
        "print('Según el nº de habitaciones:', Theta_verd[3])\n",
        "print('Según el nº de cuartos de baño:', Theta_verd[4])\n",
        "print('Según si tiene garaje:', Theta_verd[5])\n",
        "print('Por cada m2 de superficie de zonas comunes:', Theta_verd[6])\n",
        "print('Por cada año de antigüedad:', Theta_verd[7])"
      ]
    },
    {
      "cell_type": "markdown",
      "id": "7057a1d4-589f-4628-b082-80efc63b290f",
      "metadata": {
        "id": "7057a1d4-589f-4628-b082-80efc63b290f"
      },
      "source": [
        "Cada uno de estos pesos multiplicará su característica correspondiente, sumando o restando al precio total de la vivienda.\n",
        "\n",
        "Sin embargo, a nuestro set de datos sintético ideal le falta un término muy importante, el _bias_ o _intercept_:\n",
        "El _bias_ es el término _b_ de cualquier recta $y = m * x + b$, el que respresenta la suma de todas las constantes que afectan a nuestro modelo o el precio base, antes de verse modificado por el resto de características.\n",
        "\n",
        "Este _bias_ es muy importante porque un modelo no sólo debe poder aproximar pesos o coeficientes que multipliquen a las características dadas, sino también a valores constantes que no dependan de las características concretas de cada ejemplo.\n",
        "\n",
        "O lo que es lo mismo: _precio = coeficientes * características + \"bias o precio base\"_.\n",
        "\n",
        "P. ej., en el caso de viviendas, sería el precio de partida de todas las viviendas, si lo hubiera, independientemente de sus características, las cuales suman o restan a partir del mismo. En el caso de un estudio sin habitaciones independientes, WC compartido, sin garaje, etc., etc., donde todas sus características fueran 0, nos permitiría determinar su precio de venta, *que no sería de 0 € seguramente*.\n",
        "\n",
        "Añadimos a *Theta_verd* un _bias_ o precio de partida."
      ]
    },
    {
      "cell_type": "code",
      "execution_count": 5,
      "id": "107b5038-783a-4d94-b5c1-521ee23d559e",
      "metadata": {
        "colab": {
          "base_uri": "https://localhost:8080/"
        },
        "id": "107b5038-783a-4d94-b5c1-521ee23d559e",
        "outputId": "16990360-bc98-432a-e148-782968ae2378"
      },
      "outputs": [
        {
          "output_type": "stream",
          "name": "stdout",
          "text": [
            "Theta verdadero y 10 primeros ejemplos (filas) de X:\n",
            "[25000.  1000.  -500. 10000.  5000.  2500.  6000.    50. -1500.]\n",
            "[[1.         0.73606413 0.60732159 0.99203717 0.9118979  0.22600024\n",
            "  0.82640137 0.56566639 0.74476843]\n",
            " [1.         0.09160572 0.47301045 0.57202656 0.92478079 0.68349437\n",
            "  0.98568605 0.17250515 0.8522065 ]\n",
            " [1.         0.78965573 0.73069512 0.3761072  0.88345767 0.56563983\n",
            "  0.52394704 0.71358958 0.8839697 ]\n",
            " [1.         0.91830535 0.91807925 0.26706679 0.9525051  0.12909037\n",
            "  0.49265693 0.22363844 0.35306873]\n",
            " [1.         0.59054028 0.95378177 0.16041692 0.82842301 0.35287977\n",
            "  0.37035925 0.5112291  0.93943668]\n",
            " [1.         0.74803728 0.99270688 0.19065143 0.80794265 0.32684115\n",
            "  0.7285995  0.66065739 0.70029576]\n",
            " [1.         0.61836926 0.24993325 0.01057531 0.6420299  0.7855036\n",
            "  0.47056992 0.83247301 0.32910396]\n",
            " [1.         0.11991434 0.34900469 0.29947489 0.99882565 0.56551182\n",
            "  0.6424324  0.52654887 0.74572256]\n",
            " [1.         0.03546618 0.64555015 0.45575873 0.64533707 0.39640169\n",
            "  0.12438264 0.81865502 0.51247597]\n",
            " [1.         0.55795546 0.21225918 0.92425855 0.19498899 0.59898694\n",
            "  0.55649278 0.01280964 0.74779405]]\n",
            "Tamaños de X y Tetha verdadero:\n",
            "(100, 9)\n",
            "(9,)\n"
          ]
        }
      ],
      "source": [
        "# CUIDADO: Cada vez que ejecutamos esta celda estamos añadiendo una columna\n",
        "# de 1s a Theta_verd y X, por lo que sólo debemos ejecutarla una vez\n",
        "\n",
        "Theta_verd = np.insert(Theta_verd, 0, 25000)    # 25000 € de precio de partida = theta[0]\n",
        "X = np.insert(X, 0, np.ones(m), axis=1)\n",
        "\n",
        "print('Theta verdadero y 10 primeros ejemplos (filas) de X:')\n",
        "print(Theta_verd)\n",
        "print(X[:10, :])\n",
        "print('Tamaños de X y Tetha verdadero:')\n",
        "print(X.shape)\n",
        "print(Theta_verd.shape)"
      ]
    },
    {
      "cell_type": "markdown",
      "id": "4639fb44-a934-4067-8a0d-5d341dc2d5f8",
      "metadata": {
        "id": "4639fb44-a934-4067-8a0d-5d341dc2d5f8"
      },
      "source": [
        "Contando con dicho *Theta_verd*, podemos establecer el vector *Y* de precios de venta de nuestros ejemplos:"
      ]
    },
    {
      "cell_type": "code",
      "execution_count": 6,
      "id": "074cf941-6c77-4c40-82fa-8baa12d7c76c",
      "metadata": {
        "colab": {
          "base_uri": "https://localhost:8080/"
        },
        "collapsed": true,
        "id": "074cf941-6c77-4c40-82fa-8baa12d7c76c",
        "outputId": "c6e33221-ff66-4012-db93-0a723d306a87"
      },
      "outputs": [
        {
          "output_type": "stream",
          "name": "stdout",
          "text": [
            "Precios de venta:\n",
            "[39268.48223079 45887.51904987 38018.79363504 35804.69901338\n",
            " 30626.88054471 33594.09773327 29855.60234617 42362.62472167\n",
            " 29757.63153921 45183.02078681 37658.8705585  44855.97454899\n",
            " 32710.63684359 38146.0510852  40941.70266954 35682.3408741\n",
            " 42737.52483131 42162.02181765 33239.68782597 25137.32933283\n",
            " 42733.88661889 29594.42174601 38707.99777796 39228.26262343\n",
            " 37495.13886326 39648.12952984 36055.73927453 30429.98412081\n",
            " 37383.63526449 31881.19744366 33659.77377702 40588.06612651\n",
            " 50194.64678089 46363.50414894 44804.54141566 29798.24698161\n",
            " 31522.44562966 34716.69800576 39080.5199569  30791.83050418\n",
            " 34188.31328367 39138.98958287 31269.79947273 29506.14486572\n",
            " 40114.01234085 34461.37873449 39722.09415545 35917.06791484\n",
            " 36614.71451155 33158.85491506 36697.25873919 37744.25429279\n",
            " 30248.17508056 41494.7308117  27452.33880489 40824.64130046\n",
            " 35927.50695939 45614.94864049 33829.55819962 34794.43292376\n",
            " 35821.35974009 37036.73753703 26666.45789813 34048.72172405\n",
            " 35241.33497357 27839.72815353 36036.24950345 42670.95434982\n",
            " 37733.79241111 27683.50481172 44605.8174822  30494.68502584\n",
            " 36501.85276713 32848.31246032 40592.43044362 41759.59180831\n",
            " 42400.65335365 38993.28803336 26886.47189561 34005.21484582\n",
            " 36547.43728002 36836.6956701  35674.4407913  30605.20770253\n",
            " 35126.62778498 31980.40482549 45392.56343161 37357.18637019\n",
            " 50114.58706934 24718.60031508 33528.47265573 36882.32276\n",
            " 37370.83096452 36385.5380767  46854.99163588 40964.08982073\n",
            " 42119.34951988 35672.13639682 30087.8486107  26953.90126112]\n",
            "(100,)\n"
          ]
        }
      ],
      "source": [
        "# TODO: Modifica el siguiente código para añadir un término de error aleatorio a Y\n",
        "Y = np.matmul(X, Theta_verd)\n",
        "\n",
        "error = 0.15\n",
        "\n",
        "termino_error = np.random.uniform(-error, error, size=Y.shape)\n",
        "\n",
        "Y = Y * (1 + termino_error)\n",
        "\n",
        "\n",
        "print('Precios de venta:')\n",
        "print(Y)\n",
        "print(Y.shape)\n",
        "\n"
      ]
    },
    {
      "cell_type": "markdown",
      "id": "15f8211d-9ffb-42a9-ac1b-a49e20e9387a",
      "metadata": {
        "id": "15f8211d-9ffb-42a9-ac1b-a49e20e9387a"
      },
      "source": [
        "*Nota*: Al no haber usado valores int finalmente, los precios de venta son también valores float."
      ]
    },
    {
      "cell_type": "markdown",
      "id": "638e93e9-faf1-4b2a-b8d0-2bbed579e869",
      "metadata": {
        "id": "638e93e9-faf1-4b2a-b8d0-2bbed579e869"
      },
      "source": [
        "## Entrenamiento del modelo\n",
        "\n",
        "Una vez listo nuestro dataset de datos de entrenamiento, vamos a entrenar el modelo de regresión lineal.\n",
        "\n",
        "Para ello, copia las celdas correspondientes de los últimos ejercicios para entrenar el modelo con estos datos y evalúa su comportamiento:"
      ]
    },
    {
      "cell_type": "code",
      "execution_count": 7,
      "id": "54eea739-68eb-4c39-9f7a-d442177fea57",
      "metadata": {
        "colab": {
          "base_uri": "https://localhost:8080/"
        },
        "id": "54eea739-68eb-4c39-9f7a-d442177fea57",
        "outputId": "91264ace-ac29-4b79-9f35-78c78b9971ba"
      },
      "outputs": [
        {
          "output_type": "stream",
          "name": "stdout",
          "text": [
            "                            OLS Regression Results                            \n",
            "==============================================================================\n",
            "Dep. Variable:                      y   R-squared:                       0.666\n",
            "Model:                            OLS   Adj. R-squared:                  0.636\n",
            "Method:                 Least Squares   F-statistic:                     22.64\n",
            "Date:                Sun, 07 Sep 2025   Prob (F-statistic):           1.23e-18\n",
            "Time:                        16:44:55   Log-Likelihood:                -949.07\n",
            "No. Observations:                 100   AIC:                             1916.\n",
            "Df Residuals:                      91   BIC:                             1940.\n",
            "Df Model:                           8                                         \n",
            "Covariance Type:            nonrobust                                         \n",
            "==============================================================================\n",
            "                 coef    std err          t      P>|t|      [0.025      0.975]\n",
            "------------------------------------------------------------------------------\n",
            "const       2.179e+04   1763.017     12.357      0.000    1.83e+04    2.53e+04\n",
            "x1          2516.4834   1300.157      1.936      0.056     -66.119    5099.085\n",
            "x2            91.3785   1240.324      0.074      0.941   -2372.373    2555.130\n",
            "x3          1.187e+04   1230.095      9.650      0.000    9427.114    1.43e+04\n",
            "x4          4187.2634   1177.935      3.555      0.001    1847.441    6527.086\n",
            "x5          5013.7362   1277.373      3.925      0.000    2476.392    7551.081\n",
            "x6          7518.4297   1182.854      6.356      0.000    5168.835    9868.024\n",
            "x7           447.2167   1244.931      0.359      0.720   -2025.685    2920.118\n",
            "x8         -1624.6445   1244.472     -1.305      0.195   -4096.635     847.346\n",
            "==============================================================================\n",
            "Omnibus:                       29.077   Durbin-Watson:                   1.905\n",
            "Prob(Omnibus):                  0.000   Jarque-Bera (JB):                5.736\n",
            "Skew:                          -0.056   Prob(JB):                       0.0568\n",
            "Kurtosis:                       1.832   Cond. No.                         11.3\n",
            "==============================================================================\n",
            "\n",
            "Notes:\n",
            "[1] Standard Errors assume that the covariance matrix of the errors is correctly specified.\n"
          ]
        }
      ],
      "source": [
        "# TODO: Copia las celdas correspondientes para entrenar un modelo por regresión lineal y evaluar su entrenamiento\n",
        "\n",
        "import statsmodels.api as sm\n",
        "\n",
        "model = sm.OLS(Y, X).fit()\n",
        "print(model.summary())"
      ]
    },
    {
      "cell_type": "markdown",
      "id": "dc8b0ce2-0d81-4757-87ae-5fc5a5c0af2a",
      "metadata": {
        "id": "dc8b0ce2-0d81-4757-87ae-5fc5a5c0af2a"
      },
      "source": [
        "## Predicciones\n",
        "\n",
        "Por tanto, si creamos un nuevo ejemplo de vivienda manualmente con características aleatorias, podemos hacer una predicción sobre su precio de venta:"
      ]
    },
    {
      "cell_type": "code",
      "execution_count": 8,
      "id": "62fa743e-fd1f-4c5a-816a-8066dbd0ab21",
      "metadata": {
        "colab": {
          "base_uri": "https://localhost:8080/"
        },
        "id": "62fa743e-fd1f-4c5a-816a-8066dbd0ab21",
        "outputId": "1848a0af-9353-40e9-98f1-0ecab6d7966c"
      },
      "outputs": [
        {
          "output_type": "stream",
          "name": "stdout",
          "text": [
            "Ej. de vivienda aleatorio:\n",
            "[1.         0.22411857 0.86621523 0.61252498 0.95991963 0.10553744\n",
            " 0.20485955 0.87067442 0.28731646]\n",
            "Precio predicho para dicha vivienda:\n",
            "36821.418820023755\n"
          ]
        }
      ],
      "source": [
        "# TODO: Crea una nueva vivienda con características aleatorias y calcula su Y predicha\n",
        "# Recuerda añadirle a X un término de bias de 1.\n",
        "n = X.shape[1] - 1\n",
        "\n",
        "x_pred = np.random.rand(n)\n",
        "\n",
        "# Añadimos el término de bias\n",
        "x_pred = np.insert(x_pred, 0, 1)\n",
        "\n",
        "y_pred = np.matmul(x_pred, Theta_verd)    # Usa la theta entrenada por tu modelo en el paso anterior\n",
        "\n",
        "print('Ej. de vivienda aleatorio:')\n",
        "print(x_pred)\n",
        "\n",
        "print('Precio predicho para dicha vivienda:')\n",
        "print(y_pred)"
      ]
    },
    {
      "cell_type": "markdown",
      "id": "894b4b58-6557-4141-b4ec-a3e918fbe7bc",
      "metadata": {
        "id": "894b4b58-6557-4141-b4ec-a3e918fbe7bc"
      },
      "source": [
        "¿Y nuestro dataset sintético original? ¿Qué precio de venta tendría? ¿Y qué resíduos tendría nuestro modelo sobre ellos?"
      ]
    },
    {
      "cell_type": "code",
      "execution_count": 9,
      "id": "abc46147-9e8d-43c2-b839-51ce9e990a7b",
      "metadata": {
        "colab": {
          "base_uri": "https://localhost:8080/",
          "height": 472
        },
        "id": "abc46147-9e8d-43c2-b839-51ce9e990a7b",
        "outputId": "5775e65a-2bbe-4289-9de7-1b4761f672e9"
      },
      "outputs": [
        {
          "output_type": "display_data",
          "data": {
            "text/plain": [
              "<Figure size 640x480 with 1 Axes>"
            ],
            "image/png": "[encoded data removed]"
          },
          "metadata": {}
        }
      ],
      "source": [
        "# TODO: Calcula y representa gráficamente los resíduos del modelo\n",
        "\n",
        "Y_pred = np.matmul(X, Theta_verd)\n",
        "\n",
        "\n",
        "residuos = Y - Y_pred\n",
        "\n",
        "plt.scatter(range(len(residuos)), residuos, color='blue', alpha=0.6)\n",
        "plt.axhline(y=0, color='red', linestyle='--')  # línea horizontal en 0\n",
        "plt.title('Residuos del modelo de regresión')\n",
        "plt.xlabel('Ejemplo')\n",
        "plt.ylabel('Residuos')\n",
        "plt.show()"
      ]
    }
  ],
  "metadata": {
    "environment": {
      "kernel": "python3",
      "name": "common-cpu.m87",
      "type": "gcloud",
      "uri": "gcr.io/deeplearning-platform-release/base-cpu:m87"
    },
    "kernelspec": {
      "display_name": "Python 3",
      "language": "python",
      "name": "python3"
    },
    "language_info": {
      "codemirror_mode": {
        "name": "ipython",
        "version": 3
      },
      "file_extension": ".py",
      "mimetype": "text/x-python",
      "name": "python",
      "nbconvert_exporter": "python",
      "pygments_lexer": "ipython3",
      "version": "3.7.12"
    },
    "colab": {
      "provenance": []
    }
  },
  "nbformat": 4,
  "nbformat_minor": 5
}