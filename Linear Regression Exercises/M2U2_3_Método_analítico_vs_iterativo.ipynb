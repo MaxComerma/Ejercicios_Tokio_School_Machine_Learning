{
  "cells": [
    {
      "cell_type": "markdown",
      "id": "214e25ad-b1cd-40df-9f7a-86d90add5a35",
      "metadata": {
        "id": "214e25ad-b1cd-40df-9f7a-86d90add5a35"
      },
      "source": [
        "# Regresión lineal multivariable: Método analítico vs iterativo\n",
        "M2U2 - Ejercicio 3\n",
        "\n",
        "## ¿Qué vamos a hacer?\n",
        "- Resolver la regresión lineal por el método analítico\n",
        "\n",
        "Recuerda seguir las instrucciones para las entregas de prácticas indicadas en [Instrucciones entregas](https://github.com/Tokio-School/Machine-Learning/blob/main/Instrucciones%20entregas.md)."
      ]
    },
    {
      "cell_type": "markdown",
      "id": "9f6431ae-9df9-4879-bf85-bd84ab6ec22e",
      "metadata": {
        "id": "9f6431ae-9df9-4879-bf85-bd84ab6ec22e"
      },
      "source": [
        "## Resolver el modelo por el método analítico\n",
        "\n",
        "En esta ocasión, vamos a resolver o entrenar el modelo usando la ecuación normal, que tiene la siguiente forma:\n",
        "\n",
        "$\\Theta_{(n,1)} = (X^T \\times X)^{-1} \\times X^T \\times Y$"
      ]
    },
    {
      "cell_type": "code",
      "execution_count": 1,
      "id": "f1413401-b8fe-49b6-8377-2d552e749414",
      "metadata": {
        "id": "f1413401-b8fe-49b6-8377-2d552e749414"
      },
      "outputs": [],
      "source": [
        "import numpy as np"
      ]
    },
    {
      "cell_type": "markdown",
      "id": "6ed87898-106b-4fc2-a7de-900b14a95945",
      "metadata": {
        "id": "6ed87898-106b-4fc2-a7de-900b14a95945"
      },
      "source": [
        "### Tarea 1: Genera un dataset sintético sin término de error"
      ]
    },
    {
      "cell_type": "code",
      "execution_count": 27,
      "id": "2070c447-caf9-4515-8f02-1f394ab367e1",
      "metadata": {
        "colab": {
          "base_uri": "https://localhost:8080/"
        },
        "id": "2070c447-caf9-4515-8f02-1f394ab367e1",
        "outputId": "151884b4-c7ec-4675-c00c-91693a91c542"
      },
      "outputs": [
        {
          "output_type": "stream",
          "name": "stdout",
          "text": [
            "Theta a estimar:\n",
            "[29.64304678 94.44014252 34.04152085 87.78091841 37.8701433 ]\n",
            "\n",
            "Primeras 10 filas y 5 columnas de X e Y:\n",
            "[[ 0.23988734 -0.76614409  0.11758472 -0.76586519 -0.92477032]\n",
            " [ 1.33158958  1.32685081  0.48147445 -0.15719028  2.20859107]\n",
            " [ 1.0578358   0.31113145 -0.07437706 -0.95919065  1.33968313]\n",
            " [-1.00016062 -0.27452339  0.36480627  0.21374184  1.55623228]\n",
            " [ 0.88985709 -0.46078984  0.50762632  0.8858395   1.1775299 ]\n",
            " [-1.11513425 -0.5073535  -1.71096231  0.43131348 -0.00937639]\n",
            " [ 0.80480491  0.53956461  0.79863323  0.2504685  -0.86299848]\n",
            " [-0.10097092 -1.17946995  0.30838813  0.79949409 -0.62005782]\n",
            " [-0.54775696  0.65667575  0.46932698  0.08344269  1.56103903]\n",
            " [-1.06635624 -2.04200802  0.69438479 -0.26261507  0.53383434]]\n",
            "[-163.49053699  251.01182832   24.7442231    34.54191823  122.49441971]\n",
            "\n",
            "Dimensiones de X e Y:\n",
            "Theta shape: (6,)\n",
            "X.shape: (150, 5)\n",
            "Y.shape: (150,)\n"
          ]
        }
      ],
      "source": [
        "# TODO: Genera un dataset sintético, sin término de error, de la forma que prefieras\n",
        "\n",
        "from sklearn.datasets import make_regression\n",
        "\n",
        "\n",
        "X, Y, Theta_verd = make_regression(n_samples = 150, n_features = 5, coef = True, noise= 0)\n",
        "\n",
        "\n",
        "m = X.shape[0]\n",
        "X_b = np.c_[np.ones((m, 1)), X]\n",
        "\n",
        "# Comprueba los valores y dimensiones (forma o \"shape\") de los vectores\n",
        "print('Theta a estimar:')\n",
        "print(Theta_verd)\n",
        "print()\n",
        "\n",
        "print('Primeras 10 filas y 5 columnas de X e Y:')\n",
        "print(X[:10,:5])\n",
        "print(Y[:5,])\n",
        "print()\n",
        "\n",
        "print('Dimensiones de X e Y:')\n",
        "print('Theta shape:', Theta_verd.shape)\n",
        "print('X.shape:', X.shape)\n",
        "print('Y.shape:', Y.shape)"
      ]
    },
    {
      "cell_type": "markdown",
      "id": "f818135b-ea09-44dd-a1d4-e71c3ccc6b65",
      "metadata": {
        "id": "f818135b-ea09-44dd-a1d4-e71c3ccc6b65"
      },
      "source": [
        "### Tarea 2: Implementa la ecuación normal\n",
        "\n",
        "Implementa la siguiente función para resolver el modelo de regresión lineal, optimizando sus coeficientes $\\Theta$, completando la siguiente celda:"
      ]
    },
    {
      "cell_type": "code",
      "execution_count": 28,
      "id": "0b558e31-06f9-4b5d-a1ce-9a57a41593f6",
      "metadata": {
        "id": "0b558e31-06f9-4b5d-a1ce-9a57a41593f6"
      },
      "outputs": [],
      "source": [
        "# TODO: Implementa la función que resuelve la ecuación normal\n",
        "\n",
        "def normal_equation(x, y):\n",
        "    \"\"\" Calcula la theta óptima usando la ecuación normal para regresión lineal multivariable\n",
        "\n",
        "    Argumentos posicionales:\n",
        "    x -- array 2D de Numpy con los valores de las variables independientes de los ejemplos, de tamaño m x n\n",
        "    y -- array 1D de Numpy con la variable dependiente/objetivo, de tamaño m x 1\n",
        "\n",
        "    Devuelve:\n",
        "    theta -- array 1D de Numpy con los pesos de los coeficientes del modelo, de tamaño 1 x n (vector fila)\n",
        "    \"\"\"\n",
        "\n",
        "    theta = np.linalg.inv(x.T @ x) @ x.T @ y\n",
        "    return theta"
      ]
    },
    {
      "cell_type": "markdown",
      "id": "cfa7b645-54b0-4272-95b9-d657d42b6c10",
      "metadata": {
        "id": "cfa7b645-54b0-4272-95b9-d657d42b6c10"
      },
      "source": [
        "## Tarea 3: Comprueba la implementación\n",
        "\n",
        "Usa el dataset sintético que has creado anteriormente para comprobar que tu implementación devuelve el mismo valor de $\\Theta$ original, o muy similar.\n",
        "\n",
        "Intenta comprobarlo varias veces, modificando parámetros como el nº de ejemplos y el nº de características.\n",
        "\n",
        "También añádele de nuevo un término de error a la Y. En este caso, la $\\Theta$ inicial y la final no concordarán del todo ya que hemos introducido error o \"ruido\" en el dataset de entrenamiento.\n",
        "\n",
        "En algunas ocasiones, la ecuación normal no es invertible, por lo que puedes encontrarte con dicho error. En este caso, no te preocupes, es una limitación del método analítico y no de tu implementación en concreto si funciona en el resto de casos."
      ]
    },
    {
      "cell_type": "code",
      "execution_count": 29,
      "id": "8d7972f3-22ec-4941-a8fa-a737fc3034fd",
      "metadata": {
        "colab": {
          "base_uri": "https://localhost:8080/"
        },
        "id": "8d7972f3-22ec-4941-a8fa-a737fc3034fd",
        "outputId": "830c9062-e404-4f5f-9d61-902216189536"
      },
      "outputs": [
        {
          "output_type": "stream",
          "name": "stdout",
          "text": [
            "Theta original:\n",
            "[29.64304678 94.44014252 34.04152085 87.78091841 37.8701433 ]\n",
            "Theta estimada:\n",
            "[29.64304678 94.44014252 34.04152085 87.78091841 37.8701433 ]\n",
            "Formas de ambas thetas:\n",
            "(5,) (5,)\n",
            "Diferencia entre ambas Thetas:\n",
            "[-7.10542736e-15 -2.84217094e-14  0.00000000e+00 -1.42108547e-14\n",
            "  1.42108547e-14]\n"
          ]
        }
      ],
      "source": [
        "# TODO: Comprueba la implementación de tu ecuación normal\n",
        "\n",
        "theta = normal_equation(X, Y)\n",
        "\n",
        "print('Theta original:')\n",
        "print(Theta_verd)\n",
        "print('Theta estimada:')\n",
        "print(theta)\n",
        "print('Formas de ambas thetas:')\n",
        "print(Theta_verd.shape, theta.shape)\n",
        "\n",
        "print('Diferencia entre ambas Thetas:')\n",
        "print(Theta_verd - theta)"
      ]
    },
    {
      "cell_type": "code",
      "source": [
        "# Añadimos ruido aleatorio ±10%\n",
        "error = 0.1\n",
        "Y_ruido = Y * (1 + np.random.uniform(-error, error, size=Y.shape))\n",
        "\n",
        "theta_ruido = normal_equation(X_b, Y_ruido)\n",
        "\n",
        "print(\"Theta estimada con ruido:\", theta_ruido[1:])\n",
        "print(\"Diferencia con Theta original:\", theta_ruido[1:] - Theta_verd)\n"
      ],
      "metadata": {
        "colab": {
          "base_uri": "https://localhost:8080/"
        },
        "id": "7XaOjlaA_Tgn",
        "outputId": "dc1c424f-2fe2-485c-ced5-ad68badcafb9"
      },
      "id": "7XaOjlaA_Tgn",
      "execution_count": 31,
      "outputs": [
        {
          "output_type": "stream",
          "name": "stdout",
          "text": [
            "Theta estimada con ruido: [29.70290456 94.27484939 33.01866551 87.54194706 37.71066372]\n",
            "Diferencia con Theta original: [ 0.05985778 -0.16529313 -1.02285534 -0.23897135 -0.15947958]\n"
          ]
        }
      ]
    }
  ],
  "metadata": {
    "environment": {
      "kernel": "python3",
      "name": "common-cpu.m91",
      "type": "gcloud",
      "uri": "gcr.io/deeplearning-platform-release/base-cpu:m91"
    },
    "kernelspec": {
      "display_name": "Python 3",
      "language": "python",
      "name": "python3"
    },
    "language_info": {
      "codemirror_mode": {
        "name": "ipython",
        "version": 3
      },
      "file_extension": ".py",
      "mimetype": "text/x-python",
      "name": "python",
      "nbconvert_exporter": "python",
      "pygments_lexer": "ipython3",
      "version": "3.7.12"
    },
    "colab": {
      "provenance": []
    }
  },
  "nbformat": 4,
  "nbformat_minor": 5
}
