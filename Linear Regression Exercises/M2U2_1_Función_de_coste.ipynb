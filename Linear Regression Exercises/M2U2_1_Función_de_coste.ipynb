{
  "cells": [
    {
      "cell_type": "markdown",
      "id": "afa5ce9e-a97f-4c44-99b9-a7b8adc6ef2d",
      "metadata": {
        "id": "afa5ce9e-a97f-4c44-99b9-a7b8adc6ef2d"
      },
      "source": [
        "# Regresión lineal multivariable: Función de coste\n",
        "M2U2 - Ejercicio 1\n",
        "\n",
        "## ¿Qué vamos a hacer?\n",
        "- Implementar la función de coste para regresión lineal multivariable\n",
        "\n",
        "Recuerda seguir las instrucciones para las entregas de prácticas indicadas en [Instrucciones entregas](https://github.com/Tokio-School/Machine-Learning/blob/main/Instrucciones%20entregas.md)."
      ]
    },
    {
      "cell_type": "code",
      "execution_count": 24,
      "id": "5ea635e5-42ec-4c2c-87cc-005f88c517cc",
      "metadata": {
        "id": "5ea635e5-42ec-4c2c-87cc-005f88c517cc"
      },
      "outputs": [],
      "source": [
        "import numpy as np"
      ]
    },
    {
      "cell_type": "markdown",
      "id": "4842b324-770d-4c7d-9c56-d5288d9532ee",
      "metadata": {
        "id": "4842b324-770d-4c7d-9c56-d5288d9532ee"
      },
      "source": [
        "## Tarea 1: Implementar la función de coste para regresión lineal multivariable no vectorizada\n",
        "\n",
        "En esta tarea, debes implementar la función de coste para regresión lineal multivariable en Python. La función de coste debe seguir la función incluida en las diapositvas y en el manual del curso.\n",
        "\n",
        "Para ello, primero rellena el código de la siguiente celda para implementar la función de coste no vectorizada.\n",
        "\n",
        "Las diferencias entre una implementación vectorizada y no vectorizada son las siguientes:\n",
        "- La vectorizada utiliza operaciones de álgebra lineal, de operaciones entre vectores/matrices.\n",
        "- La no vectorizada se implementa con bucles de control for en Python, iterando entre las secuencias/listas de elementos uno a uno.\n",
        "- La vectorizada utiliza Numpy, sus arrays ndarray y operaciones como np.matmul().\n",
        "- La no vectorizada es menos eficiente, ya que no utiliza los métodos numéricos de Numpy sobre operaciones de C++.\n",
        "- Sin embargo, la no vectorizada es bastante más sencilla de comprender en un primer momento, al ser Python puro, sin depender de otras funciones y dimensiones de vectores.\n",
        "\n",
        "Recuerda la ecuación:\n",
        "\n",
        "$$Y = h_\\Theta(X) = X \\times \\Theta^T$$\n",
        "\n",
        "$$J_\\theta = \\frac{1}{2m} \\sum_{i = 0}^{m} (h_\\theta(x^i) - y^i)^2$$\n",
        "\n",
        "Para implementarla, sigue estos pasos:\n",
        "1. Tómate un tiempo para revisar la ecuación y asegúrate que comprendes todas las operaciones matemáticas reflejadas en ella\n",
        "1. Vuelve a ejercicios anteriores o revisa las diapositivas y anota en una hoja de papel (o celda auxiliar) las dimensiones de cada vector o matriz de la ecuación\n",
        "1. Anota en dicho papel o celda auxiliar las operaciones de álgebra lineal paso a paso\n",
        "    1. Comienza por sustituir $h_{\\theta}$ en la 2ª ecuación por su valor de la 1ª\n",
        "    1. La primera operación es hallar la $h_{\\theta}$ o Y predicha para cada fila de X (multiplicándola por $\\Theta$)\n",
        "    1. La 2ª, restarle el valor de Y para dicho ejemplo/fila de X, hayando su residuo\n",
        "    1. Luego elevar al cuadrado el resultado\n",
        "    1. A continuación, sumar todos los cuadrados de los residuos para todos los ejemplos/filas de X\n",
        "    1. Por último, dividirlos por 2 * m\n",
        "1. Anota al lado de cada paso las dimensiones que debería tener su resultado. Recuerda que el resultado final de la función de coste es un escalar o número\n",
        "1. Por último, piensa cómo iterar con bucles for por cada valor de X, $\\Theta$ e Y para implementar la función de coste:\n",
        "    1. Implementa la fórmula usando únicamente bucles for y la función sum() de la librería estándar de Python, sin usar métodos ni operadores de Numpy\n",
        "    1. Itera por todas las filas o ejemplos de X (m filas)\n",
        "    1. Dentro de dicho bucle, itera por las características o valores de X y $\\Theta$ para calcular la Y predicha para dicho ejemplo\n",
        "    1. Una vez hallados todos los residuos, halla el coste total\n",
        "\n",
        "*Notas:*\n",
        "- Los pasos mencionados son sólo una guía, una ayuda. En cada ejercicio, implementa tu código a tu manera, con el planteamiento que prefieras, utilizando el esquema de código de la celda o no\n",
        "- No te preocupes demasiado por ahora por saber si funciona correctamente o no, puesto que en la siguiente tarea la comprobaremos. Si hubiera algún error, puedes volver a esta celda para corregir tu código."
      ]
    },
    {
      "cell_type": "code",
      "execution_count": 25,
      "id": "ce9d0283-b875-438b-87ee-1ad05f888057",
      "metadata": {
        "id": "ce9d0283-b875-438b-87ee-1ad05f888057"
      },
      "outputs": [],
      "source": [
        "# TODO: Implementa la función de coste no vectorizada siguiendo la siguiente plantilla\n",
        "\n",
        "\n",
        "def cost_function_non_vectorized(x, y, theta):\n",
        "    \"\"\" Computa la función de coste para el dataset y coeficientes considerados.\n",
        "\n",
        "    Argumentos posicionales:\n",
        "    x -- array 2D de Numpy con los valores de las variables independientes de los ejemplos, de tamaño m x n\n",
        "    y -- array 1D de Numpy con la variable dependiente/objetivo, de tamaño m x 1\n",
        "    theta -- array 1D de Numpy con los pesos de los coeficientes del modelo, de tamaño 1 x n (vector fila)\n",
        "\n",
        "    Devuelve:\n",
        "    j -- float con el coste para dicho array theta\n",
        "    \"\"\"\n",
        "    m = x.shape[0]   # número de filas\n",
        "    suma_residuos = 0\n",
        "\n",
        "    # recorrer todas las filas de X\n",
        "    for i in range(m):\n",
        "        y_pred = 0\n",
        "        # recorrer todas las columnas de la fila i\n",
        "        for j in range(x.shape[1]):\n",
        "            y_pred += x[i][j] * theta[j]\n",
        "\n",
        "        residuo = y_pred - y[i]\n",
        "        suma_residuos += residuo ** 2\n",
        "\n",
        "    j = (1 / (2 * m)) * suma_residuos\n",
        "    return j\n",
        "\n",
        ""
      ]
    },
    {
      "cell_type": "markdown",
      "id": "7343d92e-593c-4d08-b53c-fd87a8ea63be",
      "metadata": {
        "id": "7343d92e-593c-4d08-b53c-fd87a8ea63be"
      },
      "source": [
        "## Tarea 2: Comprueba tu implementación\n",
        "\n",
        "Para comprobar tu implementación, rescata tu código del notebook anterior acerca de datasets sintéticos para regresión lineal multivariable y utilízalos para generar un dataset en la siguiente celda:"
      ]
    },
    {
      "cell_type": "code",
      "execution_count": 26,
      "id": "121c20ef-6db9-4483-a3bc-8d7df70b5c39",
      "metadata": {
        "colab": {
          "base_uri": "https://localhost:8080/"
        },
        "id": "121c20ef-6db9-4483-a3bc-8d7df70b5c39",
        "outputId": "5d38cf2c-a1f8-449b-cedc-f93e8b9d939c"
      },
      "outputs": [
        {
          "output_type": "stream",
          "name": "stdout",
          "text": [
            "Theta real a estimar:\n",
            "[ 6.75969225 78.27284043 99.60549133 52.76020854 17.74471972 81.39205358\n",
            "  5.4145887  23.38892204 80.74281302 94.34950677]\n",
            "\n",
            "Primeras 10 filas y 5 columnas de X e Y:\n",
            "[[-0.73003074  0.68344879  0.19762018 -0.19513234 -0.31123127]\n",
            " [-2.12448995  0.56549566 -0.71215787 -0.35109066 -1.83968414]\n",
            " [-0.63176418 -0.69439356  1.25867505  0.05134935  1.02630299]\n",
            " [-0.23735674 -1.77064685  0.50849684 -1.10505314  0.59151003]\n",
            " [ 0.27895845 -0.19614134 -0.67487573  1.03640937  0.4127931 ]\n",
            " [-0.30569096  0.86755685  0.66618156  0.0861426   0.43285752]\n",
            " [ 1.37351418 -0.81369131  0.96718912 -1.43781097  0.53996167]\n",
            " [-0.11197933  0.69812549 -0.26626036 -1.82781948 -0.8619834 ]\n",
            " [-0.90771237  0.342469   -0.49101012  0.14543868 -1.58150686]\n",
            " [ 0.00524442 -0.12407644  0.92044771  0.37290051 -2.29880417]]\n",
            "[ -44.89763855  131.96236155   79.77753007 -102.26789646 -157.60079916\n",
            "  -42.26581998 -168.29250357  -96.39826536  125.15781437   57.2509931 ]\n",
            "Dimensiones de X e Y:\n",
            "X.shape: (200, 10)\n",
            "Y.shape: (200,)\n"
          ]
        }
      ],
      "source": [
        "# TODO: Genera un dataset sintético, con término de error, de la forma que escojas, con Numpy o Scikit-learn\n",
        "\n",
        "from sklearn.datasets import make_regression\n",
        "\n",
        "X, Y, Theta_verd  = make_regression(n_samples= 200, n_features= 10, coef= True, noise = 0.3)\n",
        "\n",
        "# Comprueba los valores y dimensiones (forma o \"shape\") de los vectores\n",
        "print('Theta real a estimar:')\n",
        "print(Theta_verd)\n",
        "print()\n",
        "\n",
        "print('Primeras 10 filas y 5 columnas de X e Y:')\n",
        "print(X[:10,:5])\n",
        "print(Y[:10])\n",
        "\n",
        "print('Dimensiones de X e Y:')\n",
        "\n",
        "print('X.shape:', X.shape)\n",
        "print('Y.shape:', Y.shape)\n"
      ]
    },
    {
      "cell_type": "markdown",
      "id": "0657b0ba-9003-4b37-b090-501fdda7e751",
      "metadata": {
        "id": "0657b0ba-9003-4b37-b090-501fdda7e751"
      },
      "source": [
        "Ahora vamos a comprobar tu implementación de la función de coste en las siguientes celdas.\n",
        "\n",
        "Recuerda que la función de coste representa el \"error\" de tu modelo, el sumatorio de los cuadrados de los resíduos del mismo.\n",
        "\n",
        "Por ello, la función de coste tiene las siguientes características:\n",
        "- No tiene unidades, por lo que no podemos saber si su valor es \"demasiado alto o bajo\", simplemente comparar los costes de dos modelos (conjuntos de $\\Theta$) diferentes\n",
        "- Tiene un valor de 0 para la $\\Theta$ teóricamente óptima\n",
        "- Sus valores siempre son positivos\n",
        "- Tiene un valor más alto cuanto más se aleja la $\\Theta$ utilizada de la $\\Theta$ óptima\n",
        "- Su valor crece con el cuadrado de los residuos del modelo\n",
        "\n",
        "Por lo tanto, utiliza la siguiente celda para comprobar la implementación de tu función con diferentes $\\Theta$, corrigiendo tu función si es necesario. Comprueba que:\n",
        "1. Si la $\\Theta$ es igual que la $\\Theta_{verd}$ (obtenida al definir el dataset), el coste es 0\n",
        "1. Si la $\\Theta$ es distinta que la $\\Theta_{verd}$, el coste es distinto a 0 y positivo\n",
        "1. Cuanto más alejada está la $\\Theta$ de la $\\Theta_{verd}$, mayor es el coste (compruébalo con 3 $\\Theta$ diferentes a $\\Theta_{verd}$, en orden de menor a mayor)\n",
        "\n",
        "*Nota:* Para ello, utiliza la misma celda, modificando sus variables varias veces."
      ]
    },
    {
      "cell_type": "code",
      "execution_count": 27,
      "id": "5b0c3496-d5d4-4370-9d16-8f6dce079397",
      "metadata": {
        "colab": {
          "base_uri": "https://localhost:8080/"
        },
        "id": "5b0c3496-d5d4-4370-9d16-8f6dce079397",
        "outputId": "60e31e79-2ca0-4d9b-b8ed-6e8927790b7e"
      },
      "outputs": [
        {
          "output_type": "stream",
          "name": "stdout",
          "text": [
            "Coste con theta verdadero: 0.054117321290945694\n",
            "Coste con theta cercano: 0.079563533625605\n",
            "Coste con theta medio: 4.752124679051454\n",
            "Coste con theta lejano: 54.96703641508773\n",
            "\n",
            "Theta verdadero:\n",
            "[ 6.75969225 78.27284043 99.60549133 52.76020854 17.74471972 81.39205358\n",
            "  5.4145887  23.38892204 80.74281302 94.34950677]\n",
            "\n",
            "Theta cercano:\n",
            "[ 6.82983943 78.2018553  99.63130425 52.89227802 17.67523207 81.28139131\n",
            "  5.39912003 23.24218374 80.72558987 94.25843004]\n",
            "\n",
            "Theta medio:\n",
            "[  5.48591698  78.99331707 100.37542014  52.98833287  18.3709719\n",
            "  79.19209417   5.29166981  23.66034567  81.40675917  95.19065648]\n",
            "\n",
            "Theta lejano:\n",
            "[ 11.82528326  70.95494334 102.89007672  50.78440755  13.15125253\n",
            "  80.96369821   6.01045967  24.72012473  82.34757607  98.1819578 ]\n"
          ]
        }
      ],
      "source": [
        "#TODO: Comprueba la implementación de tu función de coste\n",
        "\n",
        "\n",
        "# theta cercano\n",
        "theta_cercano = Theta_verd + 0.1*np.random.randn(Theta_verd.shape[0])\n",
        "\n",
        "# theta medio\n",
        "theta_medio = Theta_verd + 1*np.random.randn(Theta_verd.shape[0])\n",
        "\n",
        "# theta lejano\n",
        "theta_lejos = Theta_verd + 5*np.random.randn(Theta_verd.shape[0])\n",
        "\n",
        "# calcular costes\n",
        "coste_real = cost_function_non_vectorized(X, Y, Theta_verd)\n",
        "coste_cercano = cost_function_non_vectorized(X, Y, theta_cercano)\n",
        "coste_medio = cost_function_non_vectorized(X, Y, theta_medio)\n",
        "coste_lejos = cost_function_non_vectorized(X, Y, theta_lejos)\n",
        "\n",
        "# mostrar resultados\n",
        "print(\"Coste con theta verdadero:\", coste_real)\n",
        "print(\"Coste con theta cercano:\", coste_cercano)\n",
        "print(\"Coste con theta medio:\", coste_medio)\n",
        "print(\"Coste con theta lejano:\", coste_lejos)\n",
        "\n",
        "print(\"\\nTheta verdadero:\")\n",
        "print(Theta_verd)\n",
        "print(\"\\nTheta cercano:\")\n",
        "print(theta_cercano)\n",
        "print(\"\\nTheta medio:\")\n",
        "print(theta_medio)\n",
        "print(\"\\nTheta lejano:\")\n",
        "print(theta_lejos)\n"
      ]
    },
    {
      "cell_type": "markdown",
      "id": "e49eab48-7d31-427f-98f3-116b409e819b",
      "metadata": {
        "id": "e49eab48-7d31-427f-98f3-116b409e819b"
      },
      "source": [
        "## Tarea 3: Vectorizar la función de coste\n",
        "\n",
        "Ahora vamos a implementar una nueva función de coste, pero en esta ocasión vectorizada.\n",
        "\n",
        "Una función vectorizada es aquella que se realiza en base a operaciones de álgebra lineal, en lugar de p. ej. los bucles for utilizados en la primera función, y por tanto su computación es mucho más rápida y eficiente, más aún si se realiza en GPUs o procesadores especializados.\n",
        "\n",
        "Implementa de nuevo la función de coste, pero esta vez utilizando exclusivamente las operaciones de álgebra lineal para operar con vectores/arrays de Numpy.\n",
        "\n",
        "Consejos:\n",
        "- Comprueba las dimensiones del resultado de cada operación o paso intermedio una a una si lo necesitas\n",
        "- Intenta implementar la ecuación con el mínimo número de operaciones posibles, sin bucles ni iteraciones\n",
        "- Utiliza funciones como [numpy.matmul()](https://numpy.org/doc/stable/reference/generated/numpy.matmul.html) o numpy.sum().\n",
        "- Utiliza ndarray.reshape() para *theta* si te da algún problema en la multiplicación matricial, para conseguir un vector ndarray 2D (n+1, 1) en lugar de un 1D (n+1,)\n",
        "- Asegúrate de devolver un valor *j* float, no un ndarray 2D con 1 solo elemento. Extráelo con sus índices si es necesario."
      ]
    },
    {
      "cell_type": "code",
      "execution_count": 28,
      "id": "b1e17dd3-4baa-4c25-aec8-c544143b8e5f",
      "metadata": {
        "id": "b1e17dd3-4baa-4c25-aec8-c544143b8e5f"
      },
      "outputs": [],
      "source": [
        "# TODO: Implementa la función de coste vectorizada siguiendo la siguiente plantilla\n",
        "\n",
        "def cost_function(x, y, theta):\n",
        "    \"\"\"Computa la función de coste de manera vectorizada.\n",
        "\n",
        "    Argumentos:\n",
        "    x -- array 2D de Numpy, tamaño m x n\n",
        "    y -- array 1D de Numpy, tamaño m\n",
        "    theta -- array 1D de Numpy, tamaño n\n",
        "\n",
        "    Devuelve:\n",
        "    j -- float con el coste para theta\n",
        "    \"\"\"\n",
        "    # número de ejemplos\n",
        "    m = x.shape[0]\n",
        "\n",
        "    # asegurar que theta sea un vector columna (n x 1) para multiplicación matricial\n",
        "    theta = theta.reshape(-1, 1)  # ahora es n x 1\n",
        "\n",
        "    # predecir todas las Y usando multiplicación matricial\n",
        "    h = np.matmul(x, theta)\n",
        "\n",
        "    # convertir y en vector columna si es necesario\n",
        "    y = y.reshape(-1, 1)  # m x 1\n",
        "\n",
        "    # calcular residuos (diferencia entre predicción y valores reales)\n",
        "    residuos = h - y  # m x 1\n",
        "\n",
        "    # elevar al cuadrado y sumar todos los residuos\n",
        "    suma_cuadrados = np.sum(residuos**2)\n",
        "\n",
        "    # coste final según la fórmula J(theta) = 1/(2*m) * sum((h-y)^2)\n",
        "    j = suma_cuadrados / (2*m)\n",
        "\n",
        "    # asegurar que devuelva float y no array 2D\n",
        "    return float(j)\n"
      ]
    },
    {
      "cell_type": "code",
      "source": [
        "#TODO: Comprueba la implementación de tu función de coste\n",
        "\n",
        "\n",
        "# theta cercano\n",
        "theta_cercano = Theta_verd + 0.1*np.random.randn(Theta_verd.shape[0])\n",
        "\n",
        "# theta medio\n",
        "theta_medio = Theta_verd + 1*np.random.randn(Theta_verd.shape[0])\n",
        "\n",
        "# theta lejano\n",
        "theta_lejos = Theta_verd + 5*np.random.randn(Theta_verd.shape[0])\n",
        "\n",
        "# calcular costes\n",
        "coste_real = cost_function(X, Y, Theta_verd)\n",
        "coste_cercano = cost_function(X, Y, theta_cercano)\n",
        "coste_medio = cost_function(X, Y, theta_medio)\n",
        "coste_lejos = cost_function(X, Y, theta_lejos)\n",
        "\n",
        "# mostrar resultados\n",
        "print(\"Coste con theta verdadero:\", coste_real)\n",
        "print(\"Coste con theta cercano:\", coste_cercano)\n",
        "print(\"Coste con theta medio:\", coste_medio)\n",
        "print(\"Coste con theta lejano:\", coste_lejos)\n",
        "\n",
        "print(\"\\nTheta real:\")\n",
        "print(Theta_verd)\n",
        "print(\"\\nTheta cercano:\")\n",
        "print(theta_cercano)\n",
        "print(\"\\nTheta medio:\")\n",
        "print(theta_medio)\n",
        "print(\"\\nTheta lejano:\")\n",
        "\n",
        "print(theta_lejos)"
      ],
      "metadata": {
        "colab": {
          "base_uri": "https://localhost:8080/"
        },
        "id": "o_OsOoJNTMY-",
        "outputId": "1722dbca-397a-45de-e242-43cebe90acf8"
      },
      "id": "o_OsOoJNTMY-",
      "execution_count": 29,
      "outputs": [
        {
          "output_type": "stream",
          "name": "stdout",
          "text": [
            "Coste con theta verdadero: 0.0541173212909457\n",
            "Coste con theta cercano: 0.09866060804948734\n",
            "Coste con theta medio: 9.682224920650068\n",
            "Coste con theta lejano: 104.39906698631904\n",
            "\n",
            "Theta real:\n",
            "[ 6.75969225 78.27284043 99.60549133 52.76020854 17.74471972 81.39205358\n",
            "  5.4145887  23.38892204 80.74281302 94.34950677]\n",
            "\n",
            "Theta cercano:\n",
            "[ 6.82006981 77.98717417 99.68198735 52.82453491 17.65993083 81.43298891\n",
            "  5.35927311 23.37286988 80.68236485 94.50943621]\n",
            "\n",
            "Theta medio:\n",
            "[ 5.60617712 81.35613023 97.21174011 52.3951491  18.40949967 83.1186333\n",
            "  5.96162842 23.75839188 79.88120266 94.97292166]\n",
            "\n",
            "Theta lejano:\n",
            "[  4.49523148  81.39536276 100.41057624  53.22699768  20.08470422\n",
            "  90.58235129  11.52564093  20.35715108  81.92400618 101.19865123]\n"
          ]
        }
      ]
    },
    {
      "cell_type": "code",
      "source": [
        "from sklearn.metrics import mean_squared_error\n",
        "\n",
        "# y_pred: predicciones del modelo\n",
        "y_pred = np.matmul(X, Theta_verd)  # o cualquier theta que quieras probar\n",
        "\n",
        "# MSE puro\n",
        "mse = mean_squared_error(Y, y_pred)\n",
        "\n",
        "# Función de coste equivalente a la que implementaste (MSE/2)\n",
        "coste = mse / 2\n",
        "\n",
        "print(\"MSE puro:\", mse)\n",
        "print(\"Coste (MSE/2):\", coste)\n"
      ],
      "metadata": {
        "colab": {
          "base_uri": "https://localhost:8080/"
        },
        "id": "hALafs-IUGp-",
        "outputId": "46011591-a08d-48ea-ab3a-3097447abc73"
      },
      "id": "hALafs-IUGp-",
      "execution_count": 30,
      "outputs": [
        {
          "output_type": "stream",
          "name": "stdout",
          "text": [
            "MSE puro: 0.1082346425818914\n",
            "Coste (MSE/2): 0.0541173212909457\n"
          ]
        }
      ]
    }
  ],
  "metadata": {
    "environment": {
      "kernel": "python3",
      "name": "common-cpu.m87",
      "type": "gcloud",
      "uri": "gcr.io/deeplearning-platform-release/base-cpu:m87"
    },
    "kernelspec": {
      "display_name": "Python 3",
      "language": "python",
      "name": "python3"
    },
    "language_info": {
      "codemirror_mode": {
        "name": "ipython",
        "version": 3
      },
      "file_extension": ".py",
      "mimetype": "text/x-python",
      "name": "python",
      "nbconvert_exporter": "python",
      "pygments_lexer": "ipython3",
      "version": "3.7.12"
    },
    "colab": {
      "provenance": []
    }
  },
  "nbformat": 4,
  "nbformat_minor": 5
}