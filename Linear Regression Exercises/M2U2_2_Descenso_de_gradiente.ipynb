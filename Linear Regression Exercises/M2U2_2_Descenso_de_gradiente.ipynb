{
  "cells": [
    {
      "cell_type": "markdown",
      "id": "6a483fea-5052-486a-a650-5801d6883aa1",
      "metadata": {
        "id": "6a483fea-5052-486a-a650-5801d6883aa1"
      },
      "source": [
        "# Regresión lineal multivariable: Descenso de gradiente\n",
        "M2U2 - Ejercicio 2\n",
        "\n",
        "## ¿Qué vamos a hacer?\n",
        "- Implementar la optimización de la función de coste por gradient descent, o lo que es lo mismo, entrenar el modelo\n",
        "\n",
        "Recuerda seguir las instrucciones para las entregas de prácticas indicadas en [Instrucciones entregas](https://github.com/Tokio-School/Machine-Learning/blob/main/Instrucciones%20entregas.md).\n",
        "\n",
        "## Instrucciones\n",
        "\n",
        "Este ejercicio es una continuación del ejercicio anterior \"Función de coste\", por lo que debes basarte en el mismo."
      ]
    },
    {
      "cell_type": "code",
      "execution_count": 1,
      "id": "fd43af36-a639-4381-8424-72241955e713",
      "metadata": {
        "id": "fd43af36-a639-4381-8424-72241955e713"
      },
      "outputs": [],
      "source": [
        "import time\n",
        "import numpy as np\n",
        "\n",
        "from matplotlib import pyplot as plt"
      ]
    },
    {
      "cell_type": "markdown",
      "id": "e0ed96c4-774a-4e0b-88a2-9c23c7f9181b",
      "metadata": {
        "id": "e0ed96c4-774a-4e0b-88a2-9c23c7f9181b"
      },
      "source": [
        "## Tarea 1: Implementar la función de coste para regresión lineal multivariable\n",
        "\n",
        "En esta tarea, debes copiar la celda correspondiente del ejercicio anterior, trayendo tu código para implementar la función de coste vectorizada:"
      ]
    },
    {
      "cell_type": "code",
      "execution_count": 2,
      "id": "3300d424-c3ba-47d5-9254-65716fbd1a6b",
      "metadata": {
        "id": "3300d424-c3ba-47d5-9254-65716fbd1a6b"
      },
      "outputs": [],
      "source": [
        "# TODO: Implementa la función de coste vectorizada siguiendo la siguiente plantilla\n",
        "\n",
        "def cost_function(x, y, theta):\n",
        "    \"\"\"Computa la función de coste de manera vectorizada.\n",
        "\n",
        "    Argumentos:\n",
        "    x -- array 2D de Numpy, tamaño m x n\n",
        "    y -- array 1D de Numpy, tamaño m\n",
        "    theta -- array 1D de Numpy, tamaño n\n",
        "\n",
        "    Devuelve:\n",
        "    j -- float con el coste para theta\n",
        "    \"\"\"\n",
        "    # número de ejemplos\n",
        "    m = x.shape[0]\n",
        "\n",
        "    # asegurar que theta sea un vector columna (n x 1) para multiplicación matricial\n",
        "    theta = theta.reshape(-1, 1)  # ahora es n x 1\n",
        "\n",
        "    # predecir todas las Y usando multiplicación matricial\n",
        "    h = np.matmul(x, theta)\n",
        "\n",
        "    # convertir y en vector columna si es necesario\n",
        "    y = y.reshape(-1, 1)  # m x 1\n",
        "\n",
        "    # calcular residuos (diferencia entre predicción y valores reales)\n",
        "    residuos = h - y  # m x 1\n",
        "\n",
        "    # elevar al cuadrado y sumar todos los residuos\n",
        "    suma_cuadrados = np.sum(residuos**2)\n",
        "\n",
        "    # coste final según la fórmula J(theta) = 1/(2*m) * sum((h-y)^2)\n",
        "    j = suma_cuadrados / (2*m)\n",
        "\n",
        "    # asegurar que devuelva float y no array 2D\n",
        "    return float(j)"
      ]
    },
    {
      "cell_type": "markdown",
      "id": "7b09977c-81e4-44d3-babf-e4a6ee0a9fb7",
      "metadata": {
        "tags": [],
        "id": "7b09977c-81e4-44d3-babf-e4a6ee0a9fb7"
      },
      "source": [
        "## Tarea 2: Implementar la optimización de dicha función de coste por gradient descent\n",
        "\n",
        "Ahora vamos a resolver la optimización de dicha función de coste para entrenar el modelo, mediante el método de gradient descent de forma vectorizada. El modelo se considerará entrenado cuando su función de coste haya alcanzado un valor mínimo y estable.\n",
        "\n",
        "$$Y = h_\\Theta(X) = X \\times \\Theta^T$$\n",
        "\n",
        "$$J_\\theta = \\frac{1}{2m} \\sum_{i = 0}^{m} (h_\\theta(x^i) - y^i)^2$$\n",
        "\n",
        "$$\\theta_j := \\theta_j - \\alpha [\\frac{1}{m} \\sum_{i = 0}^{m}{(h_\\theta(x^i) - y^i) x_j^i}]$$\n",
        "\n",
        "Para ello, de nuevo, rellena la plantilla de código de la siguiente celda.\n",
        "\n",
        "Consejos:\n",
        "- Si lo prefieres, puedes implementar primero la función con bucles e iteraciones y por último de forma vectorizada\n",
        "- Recuerda las dimensiones de cada vector/matriz\n",
        "- De nuevo, anota las operaciones por orden paso a paso en una hoja o celda auxiliar\n",
        "- En cada paso, anota las dimensiones de su resultado, que también puedes comprobar en tu código\n",
        "- Usa numpy.matmul() como multiplicación de matrices\n",
        "- Al inicio de cada iteración de entrenamiento, debes copiar toda $\\Theta$, puesto que vas a iterar actualizando cada uno de sus valores basándote en el vector completo"
      ]
    },
    {
      "cell_type": "code",
      "execution_count": 3,
      "id": "9fa0980f-0796-4f79-aed6-d02f9e95d495",
      "metadata": {
        "id": "9fa0980f-0796-4f79-aed6-d02f9e95d495"
      },
      "outputs": [],
      "source": [
        "# TODO: Implementa la función que entrena el modelo por gradient descent\n",
        "def gradient_descent(x, y, theta, alpha, e=1e-6, iter_=1000):\n",
        "    \"\"\" Entrena el modelo optimizando su función de coste por gradient descent\n",
        "\n",
        "    Argumentos posicionales:\n",
        "    x -- array 2D de Numpy con los valores de las variables independientes de los ejemplos, de tamaño m x n\n",
        "    y -- array 1D de Numpy con la variable dependiente/objetivo, de tamaño m x 1\n",
        "    theta -- array 1D de Numpy con los pesos de los coeficientes del modelo, de tamaño 1 x n (vector fila)\n",
        "    alpha -- float, ratio de entrenamiento\n",
        "\n",
        "    Argumentos nombrados (keyword):\n",
        "    e -- float, diferencia mínima entre iteraciones para declarar que el entrenamiento ha convergido finalmente\n",
        "    iter_ -- int/float, nº de iteraciones\n",
        "\n",
        "    Devuelve:\n",
        "    j_hist -- list/array con la evolución de la función de coste durante el entrenamiento\n",
        "    theta -- array de Numpy con el valor de theta en la última iteración\n",
        "    \"\"\"\n",
        "\n",
        "    iter_ = int(iter_)    # Si has declarado iter_ en notación científica (1e3) o float (1000.), conviértelo\n",
        "\n",
        "    # Inicializa j_hist como una list o un array de Numpy. Recuerda que no sabemos qué tamaño tendrá finalmente\n",
        "    # Su nº máx. de elementos será el nº máx. de iteraciones\n",
        "    j_hist = []\n",
        "\n",
        "    m, n = x.shape    # Obtén m y n a partir de las dimensiones de X\n",
        "\n",
        "    for k in range(iter_):    # Itera sobre el nº de iteraciones máximo\n",
        "        theta_iter = theta.copy()    # Copia con \"deep copy\" la theta para cada iteración, ya que debemos actualizarla\n",
        "\n",
        "        for j in range(n):    # Itera sobre el nº de características\n",
        "            # Actualiza theta_iter para cada característica, según la derivada de la función de coste\n",
        "            # Incluye el ratio de entrenamiento alpha\n",
        "            # Cuidado con las multiplicaciones matriciales, su órden y dimensiones\n",
        "            h = np.matmul(x, theta)\n",
        "            grad = (1/m) * np.sum((h - y) * x[:, j])\n",
        "            theta_iter[j] = theta[j] - alpha * grad\n",
        "\n",
        "        theta = theta_iter    # Actualiza toda la theta, lista para la siguiente iteración\n",
        "\n",
        "        cost = cost_function(x, y, theta)    # Calcula el coste para la iteración de theta actual\n",
        "\n",
        "        j_hist.append(cost)    # Añade el coste de la iteración actual al histórico de costes\n",
        "\n",
        "        # Comprueba si la diferencia entre el coste de la iteración actual y el de la última iteración en valor\n",
        "        # absoluto son menores que la diferencia mínima para declarar convergencia, e, para toda iteración\n",
        "        # excepto la primera\n",
        "        if k > 0 and abs(j_hist[-1] - j_hist[-2]) < e:\n",
        "            print('Converge en la iteración nº: ', k)\n",
        "            break\n",
        "    else:\n",
        "        print('Nº máx. de iteraciones alcanzado')\n",
        "\n",
        "    return j_hist, theta\n"
      ]
    },
    {
      "cell_type": "markdown",
      "id": "8b469bd3-80f2-4cbe-baa5-6a10c06f4ca1",
      "metadata": {
        "id": "8b469bd3-80f2-4cbe-baa5-6a10c06f4ca1"
      },
      "source": [
        "## Tarea 3: Comprobar la implementación del gradient descent\n",
        "\n",
        "Para comprobar tu implementación, de nuevo, utiliza la misma celda variando sus parámetros varias veces, representando gráficamente la evolución de la función de coste y viendo cómo su valor va acercándose a 0.\n",
        "\n",
        "En cada caso, comprueba que la $\\Theta$ inicial y final son muy similares en los siguientes escenarios:\n",
        "1. Genera varios datasets sintéticos, comprobando cada uno\n",
        "1. Modifica el nº de ejemplos y características, m y n\n",
        "1. Modifica el parámetro de error, lo que puede hacer que la $\\Theta$ inicial y final no concuerden del todo, y a mayor error más diferencia puede haber\n",
        "1. Comprueba los hiper-parámetros del nº máx. de iteraciones o el ratio de entrenamiento $\\alpha$, que hará que el modelo tarde más o menos en entrenarse, dentro de unos valores mínimos y máximos"
      ]
    },
    {
      "cell_type": "code",
      "execution_count": 4,
      "id": "3609719f-aab2-4ea3-94c5-6c05c72deabe",
      "metadata": {
        "id": "3609719f-aab2-4ea3-94c5-6c05c72deabe",
        "colab": {
          "base_uri": "https://localhost:8080/"
        },
        "outputId": "fc6b2227-fed3-447d-9186-cedbc7f26dd8"
      },
      "outputs": [
        {
          "output_type": "stream",
          "name": "stdout",
          "text": [
            "Theta real a estimar:\n",
            "[18.87696118 61.06732979 65.00367703 75.51453848 96.06486135 30.75804738\n",
            " 43.40811978 92.72552454 62.01546472 70.8206831 ]\n",
            "\n",
            "Primeras 10 filas y 5 columnas de X e Y:\n",
            "[[-0.84879859 -1.58280764 -1.5240836  -0.12520737 -0.35800497]\n",
            " [ 0.872121   -0.72379875  0.25264007 -0.70531292 -0.80093529]\n",
            " [-1.03602146  1.7573382   0.13141257  1.78826537  0.3510147 ]\n",
            " [-0.29932694 -0.41808067 -1.27706253  1.4832859   0.21246256]\n",
            " [ 1.86523092 -0.9902393  -0.77738651 -0.97819186 -0.7541333 ]\n",
            " [ 0.27420494 -0.12129866 -1.05014869  0.36149499 -0.40975642]\n",
            " [ 0.1423007   1.81386177  0.30562626  0.84810736  2.36584638]\n",
            " [ 0.66433212  0.4220267  -0.83558343  1.03955701 -0.05137706]\n",
            " [-0.18101318  1.6367429  -0.46137693  0.45715174 -1.9535879 ]\n",
            " [ 0.02613972 -0.72110912 -1.42730748  0.59077619  0.4277389 ]]\n",
            "[-255.56839718 -198.80578167  147.86087671  183.82088974  -14.05342709\n",
            "   33.62433413  366.91663802 -156.57582535   59.08075603 -285.69218775]\n",
            "Dimensiones de X e Y:\n",
            "X.shape: (200, 10)\n",
            "Y.shape: (200,)\n"
          ]
        }
      ],
      "source": [
        "# TODO: Genera un dataset sintético, con término de error, de la forma que escojas, con Numpy o Scikit-learn\n",
        "\n",
        "from sklearn.datasets import make_regression\n",
        "\n",
        "X, Y, Theta_verd  = make_regression(n_samples= 200, n_features= 10, coef= True, noise = 0.3)\n",
        "\n",
        "# Comprueba los valores y dimensiones (forma o \"shape\") de los vectores\n",
        "print('Theta real a estimar:')\n",
        "print(Theta_verd)\n",
        "print()\n",
        "\n",
        "print('Primeras 10 filas y 5 columnas de X e Y:')\n",
        "print(X[:10,:5])\n",
        "print(Y[:10])\n",
        "\n",
        "print('Dimensiones de X e Y:')\n",
        "\n",
        "print('X.shape:', X.shape)\n",
        "print('Y.shape:', Y.shape)"
      ]
    },
    {
      "cell_type": "code",
      "execution_count": 5,
      "id": "c92d7f8c-ef7e-4358-b027-32f0fac388ed",
      "metadata": {
        "id": "c92d7f8c-ef7e-4358-b027-32f0fac388ed",
        "colab": {
          "base_uri": "https://localhost:8080/"
        },
        "outputId": "922e2859-c7b8-4ceb-b401-407eb7edcf4e"
      },
      "outputs": [
        {
          "output_type": "stream",
          "name": "stdout",
          "text": [
            "Theta inicial:\n",
            "[-0.73097342 -0.69133578 -1.01139389 -2.12294175 -1.30943751 -0.62305311\n",
            "  0.62119453 -0.97102469 -0.13883177 -0.03260759]\n",
            "Hiper-parámetros usados:\n",
            "Alpha: 0.1 Error máx.: 0.001 Nº iter: 1000.0\n",
            "Converge en la iteración nº:  103\n",
            "Tiempo de entrenamiento (s): 0.022691726684570312\n",
            "\n",
            "Últimos 10 valores de la función de coste\n",
            "[0.06308354817503448, 0.060558629323837376, 0.05834306995761415, 0.056398828802438565, 0.05469256084541024, 0.05319503505152437, 0.051880624633272726, 0.05072686078074711, 0.04971404190735132, 0.048824891467544894]\n",
            "\n",
            "Coste final:\n",
            "0.048824891467544894\n",
            "\n",
            "Theta final:\n",
            "[18.9155356  61.0461575  64.9276312  75.50309444 96.01350734 30.75017955\n",
            " 43.39657185 92.62675855 61.99187009 70.82594168]\n",
            "Valores verdaderos de Theta y diferencia con valores entrenados:\n",
            "[18.87696118 61.06732979 65.00367703 75.51453848 96.06486135 30.75804738\n",
            " 43.40811978 92.72552454 62.01546472 70.8206831 ]\n",
            "[ 0.03857442 -0.02117229 -0.07604583 -0.01144403 -0.05135402 -0.00786783\n",
            " -0.01154793 -0.098766   -0.02359463  0.00525858]\n"
          ]
        }
      ],
      "source": [
        "# TODO: Comprueba tu implementación entrenando un modelo sobre el dataset sintético creado previamente\n",
        "\n",
        "# Utiliza una theta iniciada aleatoriamente o la Theta_verd, en función del escenario a comprobar\n",
        "theta_ini = np.random.randn(X.shape[1])  # inicialización aleatoria\n",
        "\n",
        "print('Theta inicial:')\n",
        "print(theta_ini)\n",
        "\n",
        "alpha = 1e-1\n",
        "e = 1e-3\n",
        "iter_ = 1e3    # Comprueba que tu función puede admitir valores float\n",
        "\n",
        "print('Hiper-parámetros usados:')\n",
        "print('Alpha:', alpha, 'Error máx.:', e, 'Nº iter:', iter_)\n",
        "\n",
        "t = time.time()\n",
        "j_hist, theta_final = gradient_descent(X, Y, theta_ini, alpha, e=e, iter_=iter_)\n",
        "print('Tiempo de entrenamiento (s):', time.time() - t)\n",
        "\n",
        "# Últimos valores de la función de coste\n",
        "print('\\nÚltimos 10 valores de la función de coste')\n",
        "print(j_hist[-10:])\n",
        "\n",
        "print('\\nCoste final:')\n",
        "print(j_hist[-1])\n",
        "\n",
        "print('\\nTheta final:')\n",
        "print(theta_final)\n",
        "\n",
        "print('Valores verdaderos de Theta y diferencia con valores entrenados:')\n",
        "print(Theta_verd)\n",
        "print(theta_final - Theta_verd)"
      ]
    },
    {
      "cell_type": "markdown",
      "id": "a26243d6-8737-417c-acbb-1ae426dd05d0",
      "metadata": {
        "id": "a26243d6-8737-417c-acbb-1ae426dd05d0"
      },
      "source": [
        "Representa gráficamente el histórico de la función de coste para comprobar tu implementación:"
      ]
    },
    {
      "cell_type": "code",
      "execution_count": 6,
      "id": "27fdecba-cf90-4d35-99b7-5da9cc2b00a5",
      "metadata": {
        "id": "27fdecba-cf90-4d35-99b7-5da9cc2b00a5",
        "colab": {
          "base_uri": "https://localhost:8080/",
          "height": 472
        },
        "outputId": "90d31b75-23f9-44e9-d8ce-4862ef93c6a6"
      },
      "outputs": [
        {
          "output_type": "display_data",
          "data": {
            "text/plain": [
              "<Figure size 640x480 with 1 Axes>"
            ],
            "image/png": "[encoded data removed]"
          },
          "metadata": {}
        }
      ],
      "source": [
        "# TODO: Representa gráficamente la función de coste vs el nº de iteraciones\n",
        "\n",
        "plt.title('Función de coste')\n",
        "plt.xlabel('nº iteraciones')\n",
        "plt.ylabel('coste')\n",
        "\n",
        "plt.plot(range(len(j_hist)), j_hist, marker='o', linestyle='-')\n",
        "\n",
        "plt.grid()\n",
        "plt.show()"
      ]
    }
  ],
  "metadata": {
    "environment": {
      "kernel": "python3",
      "name": "common-cpu.m91",
      "type": "gcloud",
      "uri": "gcr.io/deeplearning-platform-release/base-cpu:m91"
    },
    "kernelspec": {
      "display_name": "Python 3",
      "language": "python",
      "name": "python3"
    },
    "language_info": {
      "codemirror_mode": {
        "name": "ipython",
        "version": 3
      },
      "file_extension": ".py",
      "mimetype": "text/x-python",
      "name": "python",
      "nbconvert_exporter": "python",
      "pygments_lexer": "ipython3",
      "version": "3.7.12"
    },
    "colab": {
      "provenance": []
    }
  },
  "nbformat": 4,
  "nbformat_minor": 5
}