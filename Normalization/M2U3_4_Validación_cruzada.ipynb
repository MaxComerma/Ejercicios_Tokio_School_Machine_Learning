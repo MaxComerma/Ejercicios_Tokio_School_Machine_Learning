{
  "cells": [
    {
      "cell_type": "markdown",
      "id": "b99297ac-4801-4c79-a2fa-901355a5801c",
      "metadata": {
        "id": "b99297ac-4801-4c79-a2fa-901355a5801c"
      },
      "source": [
        "# Regresión lineal: Validación, evaluación final y métricas\n",
        "M2U3 - Ejercicio 4\n",
        "\n",
        "## ¿Qué vamos a hacer?\n",
        "- Crear un dataset sintético para regresión lineal multivariable\n",
        "- Preprocesar los datos\n",
        "- Entrenar el modelo sobre el subset de entrenamiento y comprobar su idoneidad\n",
        "- Hallar el hiper-parámetro *lambda* óptimo sobre el subset de validación\n",
        "- Evaluar el modelo sobre el subset de test\n",
        "- Realizar predicciones sobre nuevos ejemplos\n",
        "\n",
        "Recuerda seguir las instrucciones para las entregas de prácticas indicadas en [Instrucciones entregas](https://github.com/Tokio-School/Machine-Learning/blob/main/Instrucciones%20entregas.md)."
      ]
    },
    {
      "cell_type": "code",
      "execution_count": 1,
      "id": "3b7d2b23-f655-4774-b2b6-3033d0267eaf",
      "metadata": {
        "id": "3b7d2b23-f655-4774-b2b6-3033d0267eaf"
      },
      "outputs": [],
      "source": [
        "import time\n",
        "import numpy as np\n",
        "from matplotlib import pyplot as plt\n",
        "from sklearn.utils import shuffle"
      ]
    },
    {
      "cell_type": "markdown",
      "id": "b6445a2e-fe04-4a8b-ba15-768cc351d1af",
      "metadata": {
        "id": "b6445a2e-fe04-4a8b-ba15-768cc351d1af"
      },
      "source": [
        "## Crear un dataset sintético para regresión lineal\n",
        "\n",
        "Vamos a comenzar, como siempre, creando un dataset sintético para este ejercicio.\n",
        "\n",
        "En esta ocasión, para el término de error usa rango no simétrico, diferente al [-1, 1], como [-a, b], con parámetros *a* y *b* que puedas controlar. De esta forma podremos modificar dicha distribución en puntos posteriores para forzar mayor diferencia entre los subsets de entrenamiento y validación."
      ]
    },
    {
      "cell_type": "code",
      "execution_count": 2,
      "id": "39806ebb-3466-4adb-aa59-8b4d50a90f51",
      "metadata": {
        "colab": {
          "base_uri": "https://localhost:8080/"
        },
        "id": "39806ebb-3466-4adb-aa59-8b4d50a90f51",
        "outputId": "cb5631ef-0cfb-4c6b-e5f8-9e36c14e0685"
      },
      "outputs": [
        {
          "output_type": "stream",
          "name": "stdout",
          "text": [
            "Theta a estimar y sus dimensiones:\n",
            "[0.79517739 0.42822674 0.60077786 0.59628616]\n",
            "(4,)\n",
            "\n",
            "Primeras 10 filas y 4 columnas de X e Y:\n",
            "[[ 1.         -0.83815884  0.47573927  0.29866433]\n",
            " [ 1.         -0.29510001 -0.07073181 -0.74474308]\n",
            " [ 1.         -0.67471693 -0.58369968 -0.84183298]\n",
            " [ 1.          0.09033286 -0.88978341 -0.62448136]\n",
            " [ 1.         -0.35866657 -0.66623674  0.88098821]\n",
            " [ 1.          0.18353086 -0.59723156 -0.08742945]\n",
            " [ 1.          0.48788581 -0.30540904 -0.11959286]\n",
            " [ 1.          0.38683866 -0.69241374  0.17542202]\n",
            " [ 1.          0.44910725 -0.71278477  0.05965881]\n",
            " [ 1.         -0.30270591  0.53317091  0.27425729]]\n",
            "[ 0.78460231  0.13808849 -0.50629316 -0.08102913  0.62777058  0.3491352\n",
            "  0.43325883  0.77066139  0.60755811  1.02571812]\n",
            "\n",
            "Dimensiones de X e Y:\n",
            "(1000, 4)\n",
            "(1000,)\n"
          ]
        }
      ],
      "source": [
        "# TODO: Genera un dataset sintético manualmente, con término de bias y término de error\n",
        "\n",
        "m = 1000\n",
        "n = 3\n",
        "\n",
        "X = np.random.uniform(-1, 1, size=(m, n))\n",
        "\n",
        "X = np.insert(X, 0, values=np.ones(m), axis=1)\n",
        "\n",
        "Theta_verd = np.random.rand(n + 1)\n",
        "\n",
        "Y = np.matmul(X, Theta_verd)\n",
        "\n",
        "# Error aleatorio relativo\n",
        "error = 0.2\n",
        "ruido = np.random.normal(0, error * np.abs(Y))\n",
        "Y += ruido\n",
        "\n",
        "# Comprueba los valores y dimensiones de los vectores\n",
        "print('Theta a estimar y sus dimensiones:')\n",
        "print(Theta_verd)\n",
        "print(Theta_verd.shape)\n",
        "print()\n",
        "\n",
        "print('Primeras 10 filas y 4 columnas de X e Y:')\n",
        "print(X[:10, :4])\n",
        "print(Y[:10])\n",
        "print()\n",
        "\n",
        "print('Dimensiones de X e Y:')\n",
        "print(X.shape)\n",
        "print(Y.shape)"
      ]
    },
    {
      "cell_type": "markdown",
      "id": "c55b3e08-c416-451b-addd-c5e1aae0c95d",
      "metadata": {
        "id": "c55b3e08-c416-451b-addd-c5e1aae0c95d"
      },
      "source": [
        "## Preprocesar los datos\n",
        "\n",
        "Vamos a preprocesar los datos completamente, para dejarlos listos para entrenar el modelo.\n",
        "\n",
        "Para preprocesarlos, vamos a seguir los siguientes pasos:\n",
        "- Reordenarlos aleatoriamente.\n",
        "- Normalizarlos.\n",
        "- Dividirlos en subsets de entrenamiento, validación y test."
      ]
    },
    {
      "cell_type": "markdown",
      "id": "c3e736d3-b931-4a7b-8fd2-01e1a5aeb615",
      "metadata": {
        "id": "c3e736d3-b931-4a7b-8fd2-01e1a5aeb615"
      },
      "source": [
        "### Reordenar el dataset aleatoriamente\n",
        "\n",
        "En esta ocasión vamos a usar un dataset sintético creado en base a datos aleatorios. Por tanto, no sería necesario reordenarlos, puesto que al ser aleatorios ya vienen desorganizados por defecto.\n",
        "\n",
        "Sin embargo, habitualmente nos podemos encontrar con datasets reales cuyos datos tienen un cierto orden, patrón, que puede confundir nuestro entrenamiento.\n",
        "\n",
        "Por tanto, siempre antes de empezar a tratar los datos, lo primero que hacemos es reordenarlos aleatoriamente, muy especialmente antes de dividirlos en los subsets de entrenamiento, validación y test.\n",
        "\n",
        "*Nota*: Muy importante, recuerda siempre reordenar los ejemplos y resultados de *X* e *Y* con el mismo orden, para que cada ejemplo tenga asignado el mismo resultado antes y después de reordenarlos."
      ]
    },
    {
      "cell_type": "code",
      "execution_count": 3,
      "id": "99d872e2-2c2c-426c-a8c8-ac367323ac1a",
      "metadata": {
        "colab": {
          "base_uri": "https://localhost:8080/"
        },
        "id": "99d872e2-2c2c-426c-a8c8-ac367323ac1a",
        "outputId": "56d050c2-74b8-4f1b-f7fe-0ec8097fd8b3"
      },
      "outputs": [
        {
          "output_type": "stream",
          "name": "stdout",
          "text": [
            "Primeras 10 filas y 4 columnas de X e Y:\n",
            "[[ 1.         -0.83815884  0.47573927  0.29866433]\n",
            " [ 1.         -0.29510001 -0.07073181 -0.74474308]\n",
            " [ 1.         -0.67471693 -0.58369968 -0.84183298]\n",
            " [ 1.          0.09033286 -0.88978341 -0.62448136]\n",
            " [ 1.         -0.35866657 -0.66623674  0.88098821]\n",
            " [ 1.          0.18353086 -0.59723156 -0.08742945]\n",
            " [ 1.          0.48788581 -0.30540904 -0.11959286]\n",
            " [ 1.          0.38683866 -0.69241374  0.17542202]\n",
            " [ 1.          0.44910725 -0.71278477  0.05965881]\n",
            " [ 1.         -0.30270591  0.53317091  0.27425729]]\n",
            "[ 0.78460231  0.13808849 -0.50629316 -0.08102913  0.62777058  0.3491352\n",
            "  0.43325883  0.77066139  0.60755811  1.02571812]\n",
            "\n",
            "Reordenamos X e Y:\n",
            "Primeras 10 filas y 4 columnas de X e Y:\n",
            "[[ 1.          0.41112126 -0.43386007 -0.75359452]\n",
            " [ 1.         -0.6364049  -0.22640331  0.1714146 ]\n",
            " [ 1.          0.43916499  0.81595379 -0.11110774]\n",
            " [ 1.          0.28953873  0.26091082 -0.98586917]\n",
            " [ 1.          0.02654267  0.17786194 -0.63827617]\n",
            " [ 1.          0.13573517 -0.60699131 -0.99345359]\n",
            " [ 1.         -0.81617643  0.24944728 -0.14731931]\n",
            " [ 1.          0.33276193  0.41319203 -0.03815236]\n",
            " [ 1.          0.42446788 -0.83288451  0.478892  ]\n",
            " [ 1.          0.13921892 -0.22919374 -0.02084764]]\n",
            "[ 0.26246095  0.51484697  1.18957531  0.52208346  0.65050376 -0.0975977\n",
            "  0.40754179  1.08438489  0.81357584  0.81114049]\n",
            "\n",
            "Dimensiones de X e Y:\n",
            "(1000, 4)\n",
            "(1000,)\n"
          ]
        }
      ],
      "source": [
        "# TODO: Reordena aleatoriamente el dataset\n",
        "\n",
        "print('Primeras 10 filas y 4 columnas de X e Y:')\n",
        "print(X[:10, :4])\n",
        "print(Y[:10])\n",
        "print()\n",
        "\n",
        "# Usa un estado aleatorio inicial de 42, para mantener la reproducibilidad\n",
        "print('Reordenamos X e Y:')\n",
        "X, Y = shuffle(X, Y, random_state=42)\n",
        "\n",
        "print('Primeras 10 filas y 4 columnas de X e Y:')\n",
        "print(X[:10, :4])\n",
        "print(Y[:10])\n",
        "print()\n",
        "\n",
        "print('Dimensiones de X e Y:')\n",
        "print(X.shape)\n",
        "print(Y.shape)"
      ]
    },
    {
      "cell_type": "markdown",
      "id": "2569a638-eabc-498a-8c8f-bc80b33f1784",
      "metadata": {
        "id": "2569a638-eabc-498a-8c8f-bc80b33f1784"
      },
      "source": [
        "Comprueba que *X* e *Y* tienen las dimensiones correctas y un orden diferente al anterior."
      ]
    },
    {
      "cell_type": "markdown",
      "id": "b3297962-8236-4036-917e-c3019db5c0de",
      "metadata": {
        "id": "b3297962-8236-4036-917e-c3019db5c0de"
      },
      "source": [
        "## Normalizar el dataset\n",
        "\n",
        "Una vez reordenados aleatoriamente los datos, vamos a proceder a normalizar el dataset de ejemplos *X*.\n",
        "\n",
        "Para ello, copia las celdas de código de ejercicios anteriores para normalizarlo.\n",
        "\n",
        "*Nota*: En ejercicios pasados usábamos 2 celdas de código diferentes, una para definir la función de normalización y otra para normalizar el dataset. Puedes combinar ambas celdas en una para guardar dicho preprocesamiento en una celda reutilizable en el futuro."
      ]
    },
    {
      "cell_type": "code",
      "execution_count": 4,
      "id": "f9ceb351-1296-4c46-bfb4-c17b66dc896e",
      "metadata": {
        "colab": {
          "base_uri": "https://localhost:8080/"
        },
        "id": "f9ceb351-1296-4c46-bfb4-c17b66dc896e",
        "outputId": "942be6e0-20d3-4e93-ce48-70e3843fc2d1"
      },
      "outputs": [
        {
          "output_type": "stream",
          "name": "stdout",
          "text": [
            "X original (primeras 10 filas y columnas):\n",
            "[[ 1.          0.41112126 -0.43386007 -0.75359452]\n",
            " [ 1.         -0.6364049  -0.22640331  0.1714146 ]\n",
            " [ 1.          0.43916499  0.81595379 -0.11110774]\n",
            " [ 1.          0.28953873  0.26091082 -0.98586917]\n",
            " [ 1.          0.02654267  0.17786194 -0.63827617]\n",
            " [ 1.          0.13573517 -0.60699131 -0.99345359]\n",
            " [ 1.         -0.81617643  0.24944728 -0.14731931]\n",
            " [ 1.          0.33276193  0.41319203 -0.03815236]\n",
            " [ 1.          0.42446788 -0.83288451  0.478892  ]\n",
            " [ 1.          0.13921892 -0.22919374 -0.02084764]]\n",
            "(1000, 4)\n",
            "Media y desviación típica de las características:\n",
            "[-0.02543337 -0.00316719 -0.00395484]\n",
            "(3,)\n",
            "[0.57601504 0.58213559 0.57993966]\n",
            "(3,)\n",
            "X normalizada:\n",
            "[[ 1.          0.75788755 -0.73984978 -1.29261667]\n",
            " [ 1.         -1.06068675 -0.38347789  0.30239256]\n",
            " [ 1.          0.80657331  1.40709655 -0.1847656 ]\n",
            " ...\n",
            " [ 1.          1.75836609  0.15392786  0.72630084]\n",
            " [ 1.          0.08680495 -0.54471818  0.19071466]\n",
            " [ 1.         -0.15712183  0.56258489  1.14606362]]\n",
            "(1000, 4)\n"
          ]
        }
      ],
      "source": [
        "# TODO: Normaliza el dataset con una función de normalización\n",
        "\n",
        "def normalize(x, mu, std):\n",
        "    x_norm = (x - mu) / std\n",
        "    return x_norm\n",
        "\n",
        "# Halla la media y la desviación típica de las características de X (columnas), excepto la primera (bias)\n",
        "mu = np.mean(X[:, 1:], axis=0)\n",
        "std = np.std(X[:, 1:], axis=0)\n",
        "\n",
        "print('X original (primeras 10 filas y columnas):')\n",
        "print(X[:10, :10])\n",
        "print(X.shape)\n",
        "\n",
        "print('Media y desviación típica de las características:')\n",
        "print(mu)\n",
        "print(mu.shape)\n",
        "print(std)\n",
        "print(std.shape)\n",
        "\n",
        "print('X normalizada:')\n",
        "X_norm = np.copy(X)\n",
        "X_norm[:,1:] = normalize(X[:,1:], mu, std)\n",
        "print(X_norm)\n",
        "print(X_norm.shape)"
      ]
    },
    {
      "cell_type": "markdown",
      "id": "e5baf16d-a9c5-4fea-a90c-491c328bb84c",
      "metadata": {
        "id": "e5baf16d-a9c5-4fea-a90c-491c328bb84c"
      },
      "source": [
        "### Dividir el dataset en subsets de entrenamiento, validación y test\n",
        "\n",
        "Por último, vamos a dividir el dataset en los 3 subsets a utilizar.\n",
        "\n",
        "Para ello, vamos a usar en esta ocasión un ratio de 60%/20%/20%, ya que partimos de 1000 ejemplos.\n",
        "Como decíamos, para un nº de ejemplos diferente, podemos modificar el ratio:"
      ]
    },
    {
      "cell_type": "code",
      "execution_count": 5,
      "id": "6ca7ce09-47f7-4179-abcb-2ca6333f3613",
      "metadata": {
        "id": "6ca7ce09-47f7-4179-abcb-2ca6333f3613",
        "colab": {
          "base_uri": "https://localhost:8080/"
        },
        "outputId": "78517652-b207-4d3c-9987-c81f053b7e4d"
      },
      "outputs": [
        {
          "output_type": "stream",
          "name": "stdout",
          "text": [
            "Ratio:\n",
            " [60, 20, 20] 100\n",
            "Índices de corte:\n",
            " [600, 800]\n",
            "Tamaños de los subsets:\n",
            "(600, 4)\n",
            "(600,)\n",
            "(200, 4)\n",
            "(200,)\n",
            "(200, 4)\n",
            "(200,)\n"
          ]
        }
      ],
      "source": [
        "# TODO: Divide el dataset X e Y en los 3 subsets según los ratios indicados\n",
        "\n",
        "ratio = [60,20,20]\n",
        "print('Ratio:\\n', ratio, ratio[0] + ratio[1] + ratio[2])\n",
        "\n",
        "# Calcula los índices de corte para X e Y\n",
        "# Consejo: la función round() y el atributo x.shape pueden serte útiles\n",
        "r = [0, 0]\n",
        "r[0] = round((ratio[0] / 100) * X.shape[0])\n",
        "r[1] = r[0] + round((ratio[1] / 100) * X.shape[0])\n",
        "print('Índices de corte:\\n', r)\n",
        "\n",
        "# Consejo: la función np.array_split() puede serte útil\n",
        "X_train, X_val, X_test = np.array_split(X, [r[0], r[1]])\n",
        "Y_train, Y_val, Y_test = np.array_split(Y, [r[0], r[1]])\n",
        "\n",
        "print('Tamaños de los subsets:')\n",
        "print(X_train.shape)\n",
        "print(Y_train.shape)\n",
        "print(X_val.shape)\n",
        "print(Y_val.shape)\n",
        "print(X_test.shape)\n",
        "print(Y_test.shape)"
      ]
    },
    {
      "cell_type": "markdown",
      "id": "11e23119-bc3d-41d4-9b54-214b818660f4",
      "metadata": {
        "id": "11e23119-bc3d-41d4-9b54-214b818660f4"
      },
      "source": [
        "## Entrenar un modelo inicial sobre el subset de entrenamiento\n",
        "\n",
        "Antes de comenzar a optimizar el hiper-parámetro *lambda*, vamos a entrenar un modelo inicial sin regularización sobre el subset de entrenamiento, para comprobar su rendimiento e idoneidad, y estar seguros que tiene sentido entrenar un modelo de regresión lineal multivariable sobre dicho dataset, ya que las características podrían no ser las adecuadas, haber una baja relación entre ellas, no seguir una relación lineal, etc.\n",
        "\n",
        "Para ello, vamos a seguir los siguientes pasos:\n",
        "- Entrenar un modelo inicial, sin regularización, con *lambda* a 0.\n",
        "- Representar el histórico de la función de coste para comprobar su evolución.\n",
        "- Reentrenar el modelo si es necesario, p. ej. variando el ratio de aprendizaje *alpha*."
      ]
    },
    {
      "cell_type": "markdown",
      "id": "e99cdeeb-b962-45e3-bd5c-72551c65cd40",
      "metadata": {
        "id": "e99cdeeb-b962-45e3-bd5c-72551c65cd40"
      },
      "source": [
        "Copia las celdas de ejercicios anteriores donde implementabas las funciones de coste y gradient descent regularizadas, y copia la celda donde entrenabas el modelo:"
      ]
    },
    {
      "cell_type": "code",
      "execution_count": 6,
      "id": "d948972f-ed3e-4400-99b3-6bc6b34c52e1",
      "metadata": {
        "id": "d948972f-ed3e-4400-99b3-6bc6b34c52e1"
      },
      "outputs": [],
      "source": [
        "# TODO: Copia las celdas con las funciones de coste y gradient descent regularizadas\n",
        "def regularized_cost_function(x, y, theta, lambda_=0.):\n",
        "\n",
        "    m = len(y)\n",
        "\n",
        "    # Predicciones del modelo\n",
        "    predictions = x @ theta\n",
        "    error = predictions - y\n",
        "\n",
        "    # Coste base (MSE)\n",
        "    cost = (1 / (2 * m)) * np.sum(error ** 2)\n",
        "\n",
        "    # Regularización (no incluye theta[0])\n",
        "    reg_term = (lambda_ / (2 * m)) * np.sum(theta[1:] ** 2)\n",
        "\n",
        "    j = cost + reg_term\n",
        "\n",
        "    # Asegurar que devolvemos float\n",
        "    return float(j)\n",
        "\n",
        "def regularized_gradient_descent(x, y, theta, alpha, lambda_=0., e=1e-6, iter_=1000):\n",
        "\n",
        "    m, n = x.shape\n",
        "    j_hist = []\n",
        "\n",
        "    theta = theta.copy()  # evitar modificar el original\n",
        "\n",
        "    for k in range(iter_):\n",
        "        predictions = x @ theta\n",
        "        error = predictions - y\n",
        "\n",
        "        theta_iter = theta.copy()\n",
        "\n",
        "        for j in range(n):\n",
        "            grad = (1/m) * np.sum(error * x[:, j])  # gradiente base\n",
        "\n",
        "            if j > 0:\n",
        "                theta_iter[j] = theta[j]*(1 - alpha*lambda_/m) - alpha*grad\n",
        "            else:\n",
        "                theta_iter[j] = theta[j] - alpha*grad\n",
        "\n",
        "        theta = theta_iter\n",
        "\n",
        "        # Calculamos el coste con regularización\n",
        "        cost = regularized_cost_function(x, y, theta, lambda_)\n",
        "        j_hist.append(cost)\n",
        "\n",
        "        # Comprobamos convergencia\n",
        "        if k > 0 and abs(j_hist[-2] - j_hist[-1]) < e:\n",
        "            print(f\"Converge en la iteración nº {k}\")\n",
        "            break\n",
        "    else:\n",
        "        print(\"Nº máximo de iteraciones alcanzado\")\n",
        "\n",
        "    return j_hist, theta\n",
        "\n"
      ]
    },
    {
      "cell_type": "code",
      "execution_count": 7,
      "id": "1ee29de0-a7d9-44d4-a6a8-b681ad2d3378",
      "metadata": {
        "id": "1ee29de0-a7d9-44d4-a6a8-b681ad2d3378",
        "colab": {
          "base_uri": "https://localhost:8080/"
        },
        "outputId": "6b07d672-220a-480b-a29c-e70103a2c865"
      },
      "outputs": [
        {
          "output_type": "stream",
          "name": "stdout",
          "text": [
            "Hiper-arámetros usados:\n",
            "Alpha: 0.1 Error máx.: 0.001 Nº iter 100\n",
            "Converge en la iteración nº 26\n",
            "\n",
            "Tiempo de entrenamiento (s): 0.005785226821899414\n",
            "\n",
            "Últimos 10 valores de la función de coste\n",
            "[0.043674459840368, 0.041462302323155786, 0.03949473257792414, 0.03773720570134687, 0.03616093391264498, 0.034741846545877295, 0.03345974418406295, 0.03229761024373521, 0.031241050284264566, 0.030277834957451233]\n",
            "Coste final:\n",
            "0.030277834957451233\n",
            "\n",
            "Theta final:\n",
            "[0.77357067 0.35054177 0.47631803 0.43722432]\n",
            "Valores verdaderos de Theta y diferencia con valores entrenados:\n",
            "[0.79517739 0.42822674 0.60077786 0.59628616]\n",
            "[-0.02160671 -0.07768497 -0.12445983 -0.15906184]\n"
          ]
        }
      ],
      "source": [
        "# TODO: Copia la celda donde entrenamos el modelo\n",
        "# Entrena tu modelo sobre el subset de entrenamiento sin regularizar y obtén el coste final y el histórico de su evolución\n",
        "\n",
        "theta_ini = np.ones(X.shape[1]) * 0.2\n",
        "\n",
        "alpha = 1e-1\n",
        "lambda_ = 0.\n",
        "e = 1e-3\n",
        "iter_ =  int(1e2)\n",
        "\n",
        "print(\"Hiper-arámetros usados:\")\n",
        "print(\"Alpha:\", alpha, \"Error máx.:\", e, \"Nº iter\", iter_)\n",
        "\n",
        "t = time.time()\n",
        "j_hist, theta_final = regularized_gradient_descent(X_train, Y_train, theta_ini, alpha, lambda_=lambda_, e=e, iter_=iter_)\n",
        "print(\"\\nTiempo de entrenamiento (s):\", time.time() - t)\n",
        "\n",
        "\n",
        "print(\"\\nÚltimos 10 valores de la función de coste\")\n",
        "print(j_hist[-10:])\n",
        "print(\"Coste final:\")\n",
        "print(j_hist[-1])\n",
        "print(\"\\nTheta final:\")\n",
        "print(theta_final)\n",
        "\n",
        "print(\"Valores verdaderos de Theta y diferencia con valores entrenados:\")\n",
        "print(Theta_verd)\n",
        "print(theta_final - Theta_verd)"
      ]
    },
    {
      "cell_type": "markdown",
      "id": "557b0c09-3c4a-4629-b971-14f229defe50",
      "metadata": {
        "id": "557b0c09-3c4a-4629-b971-14f229defe50"
      },
      "source": [
        "De la misma forma que hacíamos antes, comprueba el entrenamiento del modelo, representando gráficamente la evolución de la función de coste según el nº de iteraciones, copiando la celda de código correspondiente:"
      ]
    },
    {
      "cell_type": "code",
      "execution_count": 8,
      "id": "93e34e6f-140a-48a4-9b7c-f1a05d957ff2",
      "metadata": {
        "id": "93e34e6f-140a-48a4-9b7c-f1a05d957ff2",
        "colab": {
          "base_uri": "https://localhost:8080/",
          "height": 564
        },
        "outputId": "e415c0ec-dda4-4800-d4d4-356690a7e43d"
      },
      "outputs": [
        {
          "output_type": "display_data",
          "data": {
            "text/plain": [
              "<Figure size 1000x600 with 1 Axes>"
            ],
            "image/png": "[encoded data removed]"
          },
          "metadata": {}
        }
      ],
      "source": [
        "# TODO: Representa la evolución de la función de coste vs el nº de iteraciones\n",
        "\n",
        "plt.figure(figsize=(10, 6))\n",
        "plt.title('Función de coste')\n",
        "plt.xlabel('Nº iteraciones')\n",
        "plt.ylabel('Coste')\n",
        "\n",
        "plt.plot(j_hist, marker='o', linestyle='-', markersize=3)\n",
        "plt.grid()\n",
        "plt.show()"
      ]
    },
    {
      "cell_type": "markdown",
      "id": "c962d837-1c0f-44ec-b480-6d1756769ebc",
      "metadata": {
        "id": "c962d837-1c0f-44ec-b480-6d1756769ebc"
      },
      "source": [
        "Como decíamos antes, revisa el entrenamiento de tu modelo y modifica algún parámetro si es necesario para reentrenarlo, buscando que tenga un buen rendimiento: el ratio de aprendizaje, el punto de convergencia, el nº máx. de iteraciones, etc., excepto el parámetro de regularización *lambda*, que debe estar a 0.\n",
        "\n",
        "*Nota*: Este punto es importante, puesto que por lo general, estos hiper-parámetros serán los mismos que utilizaremos para lo que resta de la optimización del modelo, por lo que ahora es el momento de encontrar los valores idóneos."
      ]
    },
    {
      "cell_type": "markdown",
      "id": "fb720a0c-39e7-4c2e-8590-1751eb7a8e85",
      "metadata": {
        "id": "fb720a0c-39e7-4c2e-8590-1751eb7a8e85"
      },
      "source": [
        "### Comprobar si existe desviación o sobreajuste, *bias* o *varianza*\n",
        "\n",
        "Hay un test que podemos hacer rápidamente para comprobar si nuestro modelo inicial sufre claramente de desviación, varianza, o tiene un funcionamiento más o menos aceptable.\n",
        "\n",
        "Vamos a representar gráficamente la evolución de la función de coste de 2 modelos, uno entrenado sobre los primeros *n* ejemplos del subset de entrenamiento y otro entrenado sobre los primeros *n* ejemplos del subset de validación.\n",
        "\n",
        "Puesto que el subset de entrenamiento y el subset de validación no tienen el mismo tamaño, usa únicamente el mismo nº de ejemplos para este subset que ejemplos totales tenga el de validación.\n",
        "\n",
        "Para ello entrena 2 modelos en igualdad de condiciones, copiando de nuevo las celdas de código correspondientes:"
      ]
    },
    {
      "cell_type": "code",
      "execution_count": 9,
      "id": "6415fa4e-9622-4a44-92b8-e801775128cc",
      "metadata": {
        "id": "6415fa4e-9622-4a44-92b8-e801775128cc",
        "colab": {
          "base_uri": "https://localhost:8080/"
        },
        "outputId": "46c15b91-f4b0-439d-9b25-d728b5ccd025"
      },
      "outputs": [
        {
          "output_type": "stream",
          "name": "stdout",
          "text": [
            "Hiper-arámetros usados:\n",
            "Alpha: 0.1 Error máx.: 0.001 Nº iter 100\n"
          ]
        }
      ],
      "source": [
        "# TODO: Establece una theta_ini e hiper-parámetros comunes a ambos modelos, para entrenarlos en igualdad de condiciones\n",
        "\n",
        "theta_ini = np.ones(X.shape[1]) * 0.2\n",
        "\n",
        "alpha = 1e-1\n",
        "lambda_ = 0.\n",
        "e = 1e-3\n",
        "iter_ =  int(1e2)\n",
        "\n",
        "print('Hiper-arámetros usados:')\n",
        "print('Alpha:', alpha, 'Error máx.:', e, 'Nº iter', iter_)\n"
      ]
    },
    {
      "cell_type": "code",
      "execution_count": 10,
      "id": "29afa142-838d-4bb6-a666-fd9da0d40343",
      "metadata": {
        "id": "29afa142-838d-4bb6-a666-fd9da0d40343",
        "colab": {
          "base_uri": "https://localhost:8080/"
        },
        "outputId": "b681baa2-5541-4610-ea90-accf75a6406e"
      },
      "outputs": [
        {
          "output_type": "stream",
          "name": "stdout",
          "text": [
            "Converge en la iteración nº 26\n",
            "\n",
            "Últimos 10 valores de la función de coste\n",
            "[0.04103471458798815, 0.038868061580961275, 0.03692989456983026, 0.03518942101107878, 0.0336208463187154, 0.03220247857976368, 0.030916000561814854, 0.029745877236380638, 0.028678873114445426, 0.027703658600152226]\n",
            "Coste final:\n",
            "0.027703658600152226\n",
            "\n",
            "Theta final:\n",
            "[0.7527423  0.33483472 0.47415387 0.41724354]\n",
            "Valores verdaderos de Theta y diferencia con valores entrenados:\n",
            "[0.79517739 0.42822674 0.60077786 0.59628616]\n",
            "[-0.04243508 -0.09339202 -0.12662399 -0.17904262]\n"
          ]
        }
      ],
      "source": [
        "# TODO: Entrena un modelo sin regularización sobre los n primeros valores de X_train, donde n es el nº de\n",
        "# ejemplos disponibles en X_val\n",
        "# Usa j_hist_train y theta_train como nombres de variables para distinguirlos del otro modelo\n",
        "\n",
        "n = X_val.shape[0]\n",
        "X_train_subset = X_train[:n]\n",
        "Y_train_subset = Y_train[:n]\n",
        "\n",
        "j_hist_train, theta_train = regularized_gradient_descent(X_train_subset, Y_train_subset, theta_ini, alpha, lambda_=lambda_, e=e, iter_=iter_)\n",
        "\n",
        "\n",
        "print(\"\\nÚltimos 10 valores de la función de coste\")\n",
        "print(j_hist_train[-10:])\n",
        "print(\"Coste final:\")\n",
        "print(j_hist_train[-1])\n",
        "print(\"\\nTheta final:\")\n",
        "print(theta_train)\n",
        "\n",
        "print(\"Valores verdaderos de Theta y diferencia con valores entrenados:\")\n",
        "print(Theta_verd)\n",
        "print(theta_train - Theta_verd)"
      ]
    },
    {
      "cell_type": "markdown",
      "id": "b294b17e-4a6b-4482-b44e-8523c31a4c38",
      "metadata": {
        "id": "b294b17e-4a6b-4482-b44e-8523c31a4c38"
      },
      "source": [
        "*Nota*: Comprueba que *theta_ini* no se ha modificado, o modifica tu código para que ambos modelos usen la misma *theta_ini*."
      ]
    },
    {
      "cell_type": "code",
      "execution_count": 11,
      "id": "a037ce66-0c05-41b0-8c7b-6123d8c8c5da",
      "metadata": {
        "id": "a037ce66-0c05-41b0-8c7b-6123d8c8c5da",
        "colab": {
          "base_uri": "https://localhost:8080/"
        },
        "outputId": "767829aa-334c-4ceb-8820-8a1e9ddfc715"
      },
      "outputs": [
        {
          "output_type": "stream",
          "name": "stdout",
          "text": [
            "Converge en la iteración nº 27\n",
            "\n",
            "Últimos 10 valores de la función de coste\n",
            "[0.03869408165113396, 0.03676424480849459, 0.035022043257855774, 0.03344350839350846, 0.03200847299717512, 0.03069989471925569, 0.02950330592326025, 0.02840636585558131, 0.027398495705983725, 0.02647058084377627]\n",
            "Coste final:\n",
            "0.02647058084377627\n",
            "\n",
            "Theta final:\n",
            "[0.74929974 0.33498635 0.46177189 0.41966265]\n",
            "Valores verdaderos de Theta y diferencia con valores entrenados:\n",
            "[0.79517739 0.42822674 0.60077786 0.59628616]\n",
            "[-0.04587764 -0.09324038 -0.13900597 -0.17662351]\n"
          ]
        }
      ],
      "source": [
        "# TODO: Del mismo modo, entrena un modelo sin regularización sobre X_val con los mismos parámetros\n",
        "# Recuerda usar j_hist_val y theta_val como nobmres de variables\n",
        "\n",
        "j_hist_val, theta_val = regularized_gradient_descent(X_val, Y_val, theta_ini, alpha, lambda_=lambda_, e=e, iter_=iter_)\n",
        "\n",
        "\n",
        "print(\"\\nÚltimos 10 valores de la función de coste\")\n",
        "print(j_hist_val[-10:])\n",
        "print(\"Coste final:\")\n",
        "print(j_hist_val[-1])\n",
        "print(\"\\nTheta final:\")\n",
        "print(theta_val)\n",
        "\n",
        "print(\"Valores verdaderos de Theta y diferencia con valores entrenados:\")\n",
        "print(Theta_verd)\n",
        "print(theta_val - Theta_verd)\n"
      ]
    },
    {
      "cell_type": "markdown",
      "id": "228c039e-b4b2-4070-b525-6df346df468e",
      "metadata": {
        "id": "228c039e-b4b2-4070-b525-6df346df468e"
      },
      "source": [
        "Ahora representa gráficamente ambas evoluciones sobre la misma gráfica, con colores diferentes, para poder compararlas:"
      ]
    },
    {
      "cell_type": "code",
      "execution_count": 12,
      "id": "36da673f-623f-4bb9-805e-24f299e91e24",
      "metadata": {
        "id": "36da673f-623f-4bb9-805e-24f299e91e24",
        "colab": {
          "base_uri": "https://localhost:8080/",
          "height": 565
        },
        "outputId": "5cb78536-195e-4702-9dc8-526437c884f3"
      },
      "outputs": [
        {
          "output_type": "display_data",
          "data": {
            "text/plain": [
              "<Figure size 1000x600 with 1 Axes>"
            ],
            "image/png": "[encoded data removed]"
          },
          "metadata": {}
        }
      ],
      "source": [
        "# TODO: Representa en una gráfica de líneas las evoluciones del coste en ambos datasets para compararlas\n",
        "\n",
        "plt.figure(figsize=(10, 6))\n",
        "plt.plot(j_hist_train, label='Train subset', marker='o', linestyle='-', markersize=3)\n",
        "plt.plot(j_hist_val, label='Validation subset', marker='o', linestyle='-', markersize=3)\n",
        "plt.title('Función de coste comparativa')\n",
        "plt.xlabel('Nº iteraciones')\n",
        "plt.ylabel('Coste')\n",
        "plt.legend()\n",
        "plt.show()"
      ]
    },
    {
      "cell_type": "markdown",
      "id": "74b09e13-f75e-472c-9d99-3a58e137219e",
      "metadata": {
        "id": "74b09e13-f75e-472c-9d99-3a58e137219e"
      },
      "source": [
        "Con un dataset sintético aleatorio es difícil que se diera sobre-ajuste, ya que los datos originales seguirán el mismo patrón, pero de esta forma podríamos apreciar dichos problemas de la siguiente forma:\n",
        "\n",
        "- Si el coste final en ambos subsets es alto, puede haber un problema de desviación o *bias*.\n",
        "- Si el coste final en ambos subsets es muy diferente entre sí, puede haber un problema de sobreajuste o *varianza*, especialmente cuando el coste en el subset de entrenamiento es bastante inferior a en el subset de validación,\n",
        "\n",
        "Recordamos qué significaban la desviación y sobre-ajuste:\n",
        "- La desviación se produce cuando el modelo no puede ajustar suficientemente bien la curva del dataset, sea porque no son las características correctas (o faltarían otras), sea porque los datos tienen demasiado error, o sea porque el modelo sigue una relación distinta o sea demasiado simple.\n",
        "- El sobreajuste se produce cuando el modelo ajusta muy bien la curva del dataset, demasiado bien, demasiado ajustada a los ejemplos sobre los que se ha entrenado, y cuando tiene que predecir sobre nuevos resultados no lo hace correctamente."
      ]
    },
    {
      "cell_type": "markdown",
      "id": "b228ba68-fb7c-459a-9d0f-e681a9594a68",
      "metadata": {
        "id": "b228ba68-fb7c-459a-9d0f-e681a9594a68"
      },
      "source": [
        "### Comprobar la idoneidad del modelo\n",
        "\n",
        "Como decíamos, otra razón para entrenar un modelo inicial es comprobar si tiene sentido entrenar un modelo de regresión lineal multivariable sobre dicho dataset.\n",
        "\n",
        "Si vemos que el modelo sufre de sobreajuste, siempre podemos corregirla con la regularización. Sin embargo, si vemos que sufre de una alta desviación, i.e. que el coste final es muy alto, puede que nuestro tipo de modelo o las características escogidas no sean idóneas para este problema.\n",
        "\n",
        "En este caso, hemos comprobado que el error es suficientemente bajo para que resulte prometedor continuar entrenando dicho modelo de regresión lineal multivariable."
      ]
    },
    {
      "cell_type": "markdown",
      "id": "8b94efa4-9bd6-410f-b921-d0bec64d1dd2",
      "metadata": {
        "id": "8b94efa4-9bd6-410f-b921-d0bec64d1dd2"
      },
      "source": [
        "## Hallar el hiper-parámetro *lambda* óptimo sobre el subset de validación\n",
        "\n",
        "Ahora, para conseguir hallar la *lambda* óptima, vamos a entrenar un modelo diferente por cada valor de *lambda* a considerar, sobre el subset de entrenamiento, y comprobar su precisión sobre el subset de validación.\n",
        "\n",
        "Vamos a representar gráficamente el error o coste final de cada modelo vs el valor de *lambda* usado, para ver qué modelo tiene un error o coste menor en el subset de validación.\n",
        "\n",
        "De esta forma, entrenamos todos los modelos sobre el mismo subset y en igualdad de condiciones (excepto *lambda*), y los evaluamos en un subset de datos que no han visto previamente, que no hemos usado para entrenarlos.\n",
        "\n",
        "El subset de validación, por tanto, no se usa para entrenar el modelo, sino sólo para evaluar el valor de *lambda* óptimo. Excepto en el punto anterior, donde hemos hecho una evaluación inicial rápida sobre la posible aparición de sobreajuste."
      ]
    },
    {
      "cell_type": "code",
      "execution_count": 13,
      "id": "30dd793c-bc7e-4e69-9826-23498fddcdc9",
      "metadata": {
        "id": "30dd793c-bc7e-4e69-9826-23498fddcdc9",
        "colab": {
          "base_uri": "https://localhost:8080/"
        },
        "outputId": "ae7fcbfe-64b4-40e1-d32b-13d66b057bec"
      },
      "outputs": [
        {
          "output_type": "stream",
          "name": "stdout",
          "text": [
            "Converge en la iteración nº 26\n",
            "Converge en la iteración nº 26\n",
            "Converge en la iteración nº 26\n",
            "Converge en la iteración nº 26\n",
            "Converge en la iteración nº 26\n",
            "Converge en la iteración nº 26\n",
            "Converge en la iteración nº 26\n",
            "Converge en la iteración nº 26\n",
            "Converge en la iteración nº 26\n",
            "Converge en la iteración nº 25\n"
          ]
        }
      ],
      "source": [
        "# TODO: Entrena un modelo por cada valor de lambda diferente sobre X_train y evalúalo sobre X_val\n",
        "\n",
        "lambdas = [0., 1e-3, 3e-3, 1e-2, 3e-2, 1e-1, 3e-1, 1e0, 3e0, 1e1]\n",
        "# BONUS: Genera un array de lambdas con 10 valores en una escala logarítmica entre 10^-3 y 10, alternando entre valores cuyo primer decimal no-cero es un 1 y un 3, como esta lista\n",
        "\n",
        "# Completa el código para entrenar un modelo diferente para cada valor de lambda sobre X_train\n",
        "# Almacena su theta y error/coste final\n",
        "# Posteriormente, evalúa su coste total en el subset de validación\n",
        "\n",
        "# Almacena dicha información en los siguientes arrays, del mismo tamaño que el de lambdas\n",
        "j_train = np.zeros(len(lambdas))\n",
        "j_val = np.zeros(len(lambdas))\n",
        "theta_val = np.zeros((len(lambdas), X_train.shape[1]))\n",
        "\n",
        "alpha = 0.1\n",
        "e = 1e-3\n",
        "iter_ = 1000\n",
        "\n",
        "for i, lam in enumerate(lambdas):\n",
        "    j_hist, theta_final = regularized_gradient_descent(X_train, Y_train, theta_ini, alpha, lambda_=lam, e=e, iter_=iter_)\n",
        "\n",
        "    j_train[i] = j_hist[-1]\n",
        "    theta_val[i] = theta_final\n",
        "\n",
        "    Y_val_pred = X_val @ theta_final\n",
        "    j_val[i] = np.mean((Y_val - Y_val_pred)**2)  # coste MSE\n",
        "\n",
        "\n"
      ]
    },
    {
      "cell_type": "markdown",
      "id": "2fb7788b-7d4b-4ce7-a715-565d86aebd66",
      "metadata": {
        "id": "2fb7788b-7d4b-4ce7-a715-565d86aebd66"
      },
      "source": [
        "Una vez entrenados todos los modelos, representa en una gráfica de líneas su coste final sobre el subset de entrenamiento y el coste final sobre el de validación vs el valor de *lambda* utilizado:"
      ]
    },
    {
      "cell_type": "code",
      "execution_count": 14,
      "id": "a5d2871a-8f2c-4593-84e4-107a2be2c7e4",
      "metadata": {
        "id": "a5d2871a-8f2c-4593-84e4-107a2be2c7e4",
        "colab": {
          "base_uri": "https://localhost:8080/",
          "height": 476
        },
        "outputId": "59ae2385-4034-4c6d-8bf9-5d4954597035"
      },
      "outputs": [
        {
          "output_type": "display_data",
          "data": {
            "text/plain": [
              "<Figure size 640x480 with 1 Axes>"
            ],
            "image/png": "[encoded data removed]"
          },
          "metadata": {}
        }
      ],
      "source": [
        "# TODO: Representa gráficamente el error final para cada valor de lambda\n",
        "\n",
        "\n",
        "plt.plot(lambdas, j_train, marker='o', linestyle='-', label='Train')\n",
        "\n",
        "# Graficar coste de validación\n",
        "plt.plot(lambdas, j_val, marker='o', linestyle='-', label='Validation')\n",
        "\n",
        "\n",
        "plt.xscale('log')\n",
        "\n",
        "plt.xlabel('Lambda')\n",
        "plt.ylabel('Coste (MSE)')\n",
        "plt.title('Coste final vs Lambda')\n",
        "plt.legend()\n",
        "plt.grid(True)\n",
        "plt.show()"
      ]
    },
    {
      "cell_type": "markdown",
      "id": "2b3216c6-47d6-4b40-a8b4-1ec094f0a8f7",
      "metadata": {
        "id": "2b3216c6-47d6-4b40-a8b4-1ec094f0a8f7"
      },
      "source": [
        "Una vez representados dichos errores finales, podríamos elegir automáticamente el modelo con el valor de *lambda* óptimo:"
      ]
    },
    {
      "cell_type": "code",
      "execution_count": 15,
      "id": "5af8b282-aee5-41a5-ae16-4e713d172003",
      "metadata": {
        "id": "5af8b282-aee5-41a5-ae16-4e713d172003",
        "colab": {
          "base_uri": "https://localhost:8080/"
        },
        "outputId": "2195f705-4219-40f2-dae3-5f4e91ee8f1d"
      },
      "outputs": [
        {
          "output_type": "stream",
          "name": "stdout",
          "text": [
            "0.0\n",
            "0.04722421942594961\n",
            "[0.77357067 0.35054177 0.47631803 0.43722432]\n"
          ]
        }
      ],
      "source": [
        "# TODO: Escoge el modelo y el valor de lambda óptimos, con el menor error sobre el subset de validación\n",
        "\n",
        "# Itera sobre la  theta y lambda de todos los modelos y escoge el de menor coste en el subset de validación\n",
        "\n",
        "theta_final = theta_val[np.argmin(j_val)]\n",
        "lambda_final = lambdas[np.argmin(j_val)]\n",
        "j_final = j_val[np.argmin(j_val)]\n",
        "\n",
        "print(lambda_final)\n",
        "print(j_final)\n",
        "print(theta_final)\n"
      ]
    },
    {
      "cell_type": "markdown",
      "id": "49b4f7a4-caaf-4e1c-b2ef-ff8cedea8881",
      "metadata": {
        "id": "49b4f7a4-caaf-4e1c-b2ef-ff8cedea8881"
      },
      "source": [
        "Una vez implementados todos los pasos anteriores, tenemos nuestro modelo entrenado y sus hiper-parámetros optimizados."
      ]
    },
    {
      "cell_type": "markdown",
      "id": "3555a61a-22f0-4e65-9646-d6a5ba2b9210",
      "metadata": {
        "id": "3555a61a-22f0-4e65-9646-d6a5ba2b9210"
      },
      "source": [
        "## Evaluar el modelo finalmente sobre el subset de test\n",
        "\n",
        "Finalmente, hemos encontrado nuestros coeficientes *theta* e hiper-parámetro *lambda* óptimos, por lo que ya disponemos de un modelo entrenado y listo para ser usado.\n",
        "\n",
        "Sin embargo, aunque hemos calculado su error o coste final sobre el subset de validación, hemos usado dicho subset para escoger el modelo o para \"terminar de entrenarlo\". Por tanto, no hemos comprobado todavía cómo funcionará este modelo sobre datos que no ha visto nunca antes.\n",
        "\n",
        "Para ello, vamos a evaluarlo finalmente sobre el subset de test, sobre un subset que no hemos utilizado aún ni para entrenar el modelo ni para escoger sus hiper-parámetros. Un subset separado que el entrenamiento del modelo no ha visto aún.\n",
        "\n",
        "Por tanto, vamos a calcular el error o coste total sobre el subset de test y comprobar gráficamente los residuos del modelo sobre el mismo:"
      ]
    },
    {
      "cell_type": "code",
      "execution_count": 16,
      "id": "c5b7ab30-bc8b-4a48-83be-fdaffad5bd91",
      "metadata": {
        "id": "c5b7ab30-bc8b-4a48-83be-fdaffad5bd91",
        "colab": {
          "base_uri": "https://localhost:8080/"
        },
        "outputId": "23fe2ef7-377b-4564-bee1-2a9815626b4f"
      },
      "outputs": [
        {
          "output_type": "stream",
          "name": "stdout",
          "text": [
            "Coste: 0.03309444106403078\n"
          ]
        }
      ],
      "source": [
        "# TODO: Calcula el error del modelo sobre el subset de test usando la función de coste con las correspondientes\n",
        "# theta y lambda\n",
        "\n",
        "j_test = regularized_cost_function(X_test, Y_test, theta_final, lambda_final)\n",
        "print(f\"Coste: {j_test}\")"
      ]
    },
    {
      "cell_type": "code",
      "execution_count": 17,
      "id": "ad79b916-6359-4d68-b4ec-79175145cad5",
      "metadata": {
        "id": "ad79b916-6359-4d68-b4ec-79175145cad5",
        "colab": {
          "base_uri": "https://localhost:8080/",
          "height": 466
        },
        "outputId": "55a9d56c-7197-457c-9f74-b1c18de3b94f"
      },
      "outputs": [
        {
          "output_type": "display_data",
          "data": {
            "text/plain": [
              "<Figure size 800x500 with 1 Axes>"
            ],
            "image/png": "[encoded data removed]"
          },
          "metadata": {}
        }
      ],
      "source": [
        "# TODO: Calcula las predicciones del modelo sobre el subset de test, sus resíduos y represéntalos\n",
        "\n",
        "Y_test_pred = X_test @ theta_final\n",
        "\n",
        "residuos = Y_test - Y_test_pred\n",
        "\n",
        "plt.figure(figsize=(8,5))\n",
        "plt.scatter(range(len(residuos)), residuos, color='blue', alpha=0.6)\n",
        "plt.axhline(0, color='red', linestyle='--')\n",
        "plt.xlabel('Índice de muestra')\n",
        "plt.ylabel('Ejemplo')\n",
        "plt.grid(True)\n",
        "plt.show()\n",
        "\n",
        "plt.show()"
      ]
    },
    {
      "cell_type": "markdown",
      "id": "8cd5fffa-6f8e-4c90-ba0b-87d178f663c4",
      "metadata": {
        "id": "8cd5fffa-6f8e-4c90-ba0b-87d178f663c4"
      },
      "source": [
        "De esta forma podemos hacernos una idea más real sobre la precisión de nuestro modelo y cómo se comportará con nuevos ejemplos en el futuro."
      ]
    },
    {
      "cell_type": "markdown",
      "id": "9cda6132-a3cd-4929-a8b5-3b6e176ee48a",
      "metadata": {
        "id": "9cda6132-a3cd-4929-a8b5-3b6e176ee48a"
      },
      "source": [
        "## Preprocesamiento de datos con Scikit-learn\n",
        "\n",
        "Para acabar, busca y utiliza las funciones disponibles en Scikit-learn para preprocesar los datos:\n",
        "1. [Reordenando aleatoriamente](https://scikit-learn.org/stable/modules/generated/sklearn.utils.shuffle.html?highlight=shuffle#sklearn.utils.shuffle)\n",
        "1. [Normalizando/escalando](https://scikit-learn.org/stable/modules/preprocessing.html#standardization-or-mean-removal-and-variance-scaling)\n",
        "1. [Dividiendo los datos en los 3 subsets correspondientes](https://scikit-learn.org/stable/modules/generated/sklearn.model_selection.train_test_split.html?highlight=split#sklearn.model_selection.train_test_split)"
      ]
    },
    {
      "cell_type": "code",
      "execution_count": 18,
      "id": "5aa80db3-5c42-4e02-b3f7-b15413bcf832",
      "metadata": {
        "id": "5aa80db3-5c42-4e02-b3f7-b15413bcf832"
      },
      "outputs": [],
      "source": [
        "# TODO: Utiliza las funciones de Scikit-learn para reordenar aleatoriamente, normalizar y dividir los datos en los subsets de entrenamiento, validación y test\n",
        "# Utiliza la X original en lugar de X_norm\n",
        "from sklearn.model_selection import train_test_split\n",
        "from sklearn.preprocessing import StandardScaler\n",
        "\n",
        "X_reord = shuffle(X, random_state=42)\n",
        "Y_reord = Y[shuffle(np.arange(len(Y)), random_state=42)]\n",
        "scaler = StandardScaler()\n",
        "X_reord[:, 1:] = scaler.fit_transform(X_reord[:, 1:])\n",
        "X_escalada = X_reord\n",
        "\n",
        "X_train, X_temp, Y_train, Y_temp = train_test_split(X_escalada, Y_reord, test_size=0.4, random_state=42)\n",
        "X_val, X_test, Y_val, Y_test = train_test_split(X_temp, Y_temp, test_size=0.5, random_state=42)\n",
        "\n"
      ]
    }
  ],
  "metadata": {
    "environment": {
      "kernel": "python3",
      "name": "common-cpu.m87",
      "type": "gcloud",
      "uri": "gcr.io/deeplearning-platform-release/base-cpu:m87"
    },
    "kernelspec": {
      "display_name": "Python 3",
      "language": "python",
      "name": "python3"
    },
    "language_info": {
      "codemirror_mode": {
        "name": "ipython",
        "version": 3
      },
      "file_extension": ".py",
      "mimetype": "text/x-python",
      "name": "python",
      "nbconvert_exporter": "python",
      "pygments_lexer": "ipython3",
      "version": "3.7.12"
    },
    "colab": {
      "provenance": []
    }
  },
  "nbformat": 4,
  "nbformat_minor": 5
}